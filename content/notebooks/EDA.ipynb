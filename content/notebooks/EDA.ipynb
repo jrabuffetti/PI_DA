{
 "cells": [
  {
   "cell_type": "markdown",
   "metadata": {},
   "source": [
    "Importamos las librerias que vamos a utilizar"
   ]
  },
  {
   "cell_type": "code",
   "execution_count": 156,
   "metadata": {},
   "outputs": [],
   "source": [
    "import pandas as pd\n",
    "import matplotlib.pyplot as plt\n",
    "import seaborn as sns"
   ]
  },
  {
   "cell_type": "markdown",
   "metadata": {},
   "source": [
    "Creamos los dataframes"
   ]
  },
  {
   "cell_type": "code",
   "execution_count": 157,
   "metadata": {},
   "outputs": [],
   "source": [
    "hechos = pd.read_excel('datasets/homicidios.xlsx')\n",
    "victimas = pd.read_excel('datasets/homicidios.xlsx', sheet_name='VICTIMAS')"
   ]
  },
  {
   "cell_type": "markdown",
   "metadata": {},
   "source": [
    "## Dataframe 'hechos'"
   ]
  },
  {
   "cell_type": "code",
   "execution_count": 158,
   "metadata": {},
   "outputs": [
    {
     "data": {
      "text/html": [
       "<div>\n",
       "<style scoped>\n",
       "    .dataframe tbody tr th:only-of-type {\n",
       "        vertical-align: middle;\n",
       "    }\n",
       "\n",
       "    .dataframe tbody tr th {\n",
       "        vertical-align: top;\n",
       "    }\n",
       "\n",
       "    .dataframe thead th {\n",
       "        text-align: right;\n",
       "    }\n",
       "</style>\n",
       "<table border=\"1\" class=\"dataframe\">\n",
       "  <thead>\n",
       "    <tr style=\"text-align: right;\">\n",
       "      <th></th>\n",
       "      <th>ID</th>\n",
       "      <th>N_VICTIMAS</th>\n",
       "      <th>FECHA</th>\n",
       "      <th>AAAA</th>\n",
       "      <th>MM</th>\n",
       "      <th>DD</th>\n",
       "      <th>HORA</th>\n",
       "      <th>HH</th>\n",
       "      <th>LUGAR_DEL_HECHO</th>\n",
       "      <th>TIPO_DE_CALLE</th>\n",
       "      <th>...</th>\n",
       "      <th>Altura</th>\n",
       "      <th>Cruce</th>\n",
       "      <th>Dirección Normalizada</th>\n",
       "      <th>COMUNA</th>\n",
       "      <th>XY (CABA)</th>\n",
       "      <th>pos x</th>\n",
       "      <th>pos y</th>\n",
       "      <th>PARTICIPANTES</th>\n",
       "      <th>VICTIMA</th>\n",
       "      <th>ACUSADO</th>\n",
       "    </tr>\n",
       "  </thead>\n",
       "  <tbody>\n",
       "    <tr>\n",
       "      <th>0</th>\n",
       "      <td>2016-0001</td>\n",
       "      <td>1</td>\n",
       "      <td>2016-01-01</td>\n",
       "      <td>2016</td>\n",
       "      <td>1</td>\n",
       "      <td>1</td>\n",
       "      <td>04:00:00</td>\n",
       "      <td>4</td>\n",
       "      <td>AV PIEDRA BUENA Y AV FERNANDEZ DE LA CRUZ</td>\n",
       "      <td>AVENIDA</td>\n",
       "      <td>...</td>\n",
       "      <td>NaN</td>\n",
       "      <td>FERNANDEZ DE LA CRUZ, F., GRAL. AV.</td>\n",
       "      <td>PIEDRA BUENA AV. y FERNANDEZ DE LA CRUZ, F., G...</td>\n",
       "      <td>8</td>\n",
       "      <td>Point (98896.78238426 93532.43437792)</td>\n",
       "      <td>-58.47533969</td>\n",
       "      <td>-34.68757022</td>\n",
       "      <td>MOTO-AUTO</td>\n",
       "      <td>MOTO</td>\n",
       "      <td>AUTO</td>\n",
       "    </tr>\n",
       "    <tr>\n",
       "      <th>1</th>\n",
       "      <td>2016-0002</td>\n",
       "      <td>1</td>\n",
       "      <td>2016-01-02</td>\n",
       "      <td>2016</td>\n",
       "      <td>1</td>\n",
       "      <td>2</td>\n",
       "      <td>01:15:00</td>\n",
       "      <td>1</td>\n",
       "      <td>AV GRAL PAZ  Y AV DE LOS CORRALES</td>\n",
       "      <td>GRAL PAZ</td>\n",
       "      <td>...</td>\n",
       "      <td>NaN</td>\n",
       "      <td>DE LOS CORRALES AV.</td>\n",
       "      <td>PAZ, GRAL. AV. y DE LOS CORRALES AV.</td>\n",
       "      <td>9</td>\n",
       "      <td>Point (95832.05571093 95505.41641999)</td>\n",
       "      <td>-58.50877521</td>\n",
       "      <td>-34.66977709</td>\n",
       "      <td>AUTO-PASAJEROS</td>\n",
       "      <td>AUTO</td>\n",
       "      <td>PASAJEROS</td>\n",
       "    </tr>\n",
       "    <tr>\n",
       "      <th>2</th>\n",
       "      <td>2016-0003</td>\n",
       "      <td>1</td>\n",
       "      <td>2016-01-03</td>\n",
       "      <td>2016</td>\n",
       "      <td>1</td>\n",
       "      <td>3</td>\n",
       "      <td>07:00:00</td>\n",
       "      <td>7</td>\n",
       "      <td>AV ENTRE RIOS 2034</td>\n",
       "      <td>AVENIDA</td>\n",
       "      <td>...</td>\n",
       "      <td>2034.0</td>\n",
       "      <td>NaN</td>\n",
       "      <td>ENTRE RIOS AV. 2034</td>\n",
       "      <td>1</td>\n",
       "      <td>Point (106684.29090040 99706.57687843)</td>\n",
       "      <td>-58.39040293</td>\n",
       "      <td>-34.63189362</td>\n",
       "      <td>MOTO-AUTO</td>\n",
       "      <td>MOTO</td>\n",
       "      <td>AUTO</td>\n",
       "    </tr>\n",
       "    <tr>\n",
       "      <th>3</th>\n",
       "      <td>2016-0004</td>\n",
       "      <td>1</td>\n",
       "      <td>2016-01-10</td>\n",
       "      <td>2016</td>\n",
       "      <td>1</td>\n",
       "      <td>10</td>\n",
       "      <td>00:00:00</td>\n",
       "      <td>0</td>\n",
       "      <td>AV LARRAZABAL Y GRAL VILLEGAS CONRADO</td>\n",
       "      <td>AVENIDA</td>\n",
       "      <td>...</td>\n",
       "      <td>NaN</td>\n",
       "      <td>VILLEGAS, CONRADO, GRAL.</td>\n",
       "      <td>LARRAZABAL AV. y VILLEGAS, CONRADO, GRAL.</td>\n",
       "      <td>8</td>\n",
       "      <td>Point (99840.65224780 94269.16534422)</td>\n",
       "      <td>-58.46503904</td>\n",
       "      <td>-34.68092974</td>\n",
       "      <td>MOTO-SD</td>\n",
       "      <td>MOTO</td>\n",
       "      <td>SD</td>\n",
       "    </tr>\n",
       "    <tr>\n",
       "      <th>4</th>\n",
       "      <td>2016-0005</td>\n",
       "      <td>1</td>\n",
       "      <td>2016-01-21</td>\n",
       "      <td>2016</td>\n",
       "      <td>1</td>\n",
       "      <td>21</td>\n",
       "      <td>05:20:00</td>\n",
       "      <td>5</td>\n",
       "      <td>AV SAN JUAN Y PRESIDENTE LUIS SAENZ PEÑA</td>\n",
       "      <td>AVENIDA</td>\n",
       "      <td>...</td>\n",
       "      <td>NaN</td>\n",
       "      <td>SAENZ PE?A, LUIS, PRES.</td>\n",
       "      <td>SAN JUAN AV. y SAENZ PEÃ‘A, LUIS, PRES.</td>\n",
       "      <td>1</td>\n",
       "      <td>Point (106980.32827929 100752.16915795)</td>\n",
       "      <td>-58.38718297</td>\n",
       "      <td>-34.62246630</td>\n",
       "      <td>MOTO-PASAJEROS</td>\n",
       "      <td>MOTO</td>\n",
       "      <td>PASAJEROS</td>\n",
       "    </tr>\n",
       "  </tbody>\n",
       "</table>\n",
       "<p>5 rows × 21 columns</p>\n",
       "</div>"
      ],
      "text/plain": [
       "          ID  N_VICTIMAS      FECHA  AAAA  MM  DD      HORA HH  \\\n",
       "0  2016-0001           1 2016-01-01  2016   1   1  04:00:00  4   \n",
       "1  2016-0002           1 2016-01-02  2016   1   2  01:15:00  1   \n",
       "2  2016-0003           1 2016-01-03  2016   1   3  07:00:00  7   \n",
       "3  2016-0004           1 2016-01-10  2016   1  10  00:00:00  0   \n",
       "4  2016-0005           1 2016-01-21  2016   1  21  05:20:00  5   \n",
       "\n",
       "                             LUGAR_DEL_HECHO TIPO_DE_CALLE  ...  Altura  \\\n",
       "0  AV PIEDRA BUENA Y AV FERNANDEZ DE LA CRUZ       AVENIDA  ...     NaN   \n",
       "1          AV GRAL PAZ  Y AV DE LOS CORRALES      GRAL PAZ  ...     NaN   \n",
       "2                         AV ENTRE RIOS 2034       AVENIDA  ...  2034.0   \n",
       "3      AV LARRAZABAL Y GRAL VILLEGAS CONRADO       AVENIDA  ...     NaN   \n",
       "4  AV SAN JUAN Y PRESIDENTE LUIS SAENZ PEÑA        AVENIDA  ...     NaN   \n",
       "\n",
       "                                 Cruce  \\\n",
       "0  FERNANDEZ DE LA CRUZ, F., GRAL. AV.   \n",
       "1                  DE LOS CORRALES AV.   \n",
       "2                                  NaN   \n",
       "3             VILLEGAS, CONRADO, GRAL.   \n",
       "4              SAENZ PE?A, LUIS, PRES.   \n",
       "\n",
       "                               Dirección Normalizada COMUNA  \\\n",
       "0  PIEDRA BUENA AV. y FERNANDEZ DE LA CRUZ, F., G...      8   \n",
       "1               PAZ, GRAL. AV. y DE LOS CORRALES AV.      9   \n",
       "2                                ENTRE RIOS AV. 2034      1   \n",
       "3          LARRAZABAL AV. y VILLEGAS, CONRADO, GRAL.      8   \n",
       "4            SAN JUAN AV. y SAENZ PEÃ‘A, LUIS, PRES.      1   \n",
       "\n",
       "                                 XY (CABA)         pos x         pos y  \\\n",
       "0    Point (98896.78238426 93532.43437792)  -58.47533969  -34.68757022   \n",
       "1    Point (95832.05571093 95505.41641999)  -58.50877521  -34.66977709   \n",
       "2   Point (106684.29090040 99706.57687843)  -58.39040293  -34.63189362   \n",
       "3    Point (99840.65224780 94269.16534422)  -58.46503904  -34.68092974   \n",
       "4  Point (106980.32827929 100752.16915795)  -58.38718297  -34.62246630   \n",
       "\n",
       "    PARTICIPANTES VICTIMA    ACUSADO  \n",
       "0       MOTO-AUTO    MOTO       AUTO  \n",
       "1  AUTO-PASAJEROS    AUTO  PASAJEROS  \n",
       "2       MOTO-AUTO    MOTO       AUTO  \n",
       "3         MOTO-SD    MOTO         SD  \n",
       "4  MOTO-PASAJEROS    MOTO  PASAJEROS  \n",
       "\n",
       "[5 rows x 21 columns]"
      ]
     },
     "execution_count": 158,
     "metadata": {},
     "output_type": "execute_result"
    }
   ],
   "source": [
    "hechos.head()"
   ]
  },
  {
   "cell_type": "markdown",
   "metadata": {},
   "source": [
    "Contenidos del dataframe 'Hechos' por columna:\n",
    "\n",
    "* **ID:** identificador único del siniestro\n",
    "* **N_VICTIMAS:** numero de victimas\n",
    "* **FECHA:** fecha del siniestro\n",
    "* **AAAA:** año del siniestro\n",
    "* **MM:** mes del siniestro\n",
    "* **DD:** dia del mes del siniestro\n",
    "* **HORA:** hora del siniestro\n",
    "* **HH:** franja horaria entera\n",
    "* **LUGAR_DEL_HECHO:** direccion donde ocurrió el siniestro\n",
    "* **TIPO_DE_CALLE:** tipo de calle, ya sea avenida, gral paz, calle o autopista\n",
    "* **Altura:** altura de la calle donde se produjo el siniestro\n",
    "* **Cruce:** cruce de calles, en caso de haber sido en una intersección\n",
    "* **Direccion_Normalizada:** direccion en formato normalizado USIG\n",
    "* **COMUNA:** comuna de la ciudad (1 a 15)\n",
    "* **XY(CABA):** geocodificación plana\n",
    "* **pos x:** longitud con separador punto. WGS84\n",
    "* **pos y:** latitud con separador punto. WGS84\n",
    "* **PARTICIPANTES:** victimas y acusados\n",
    "* **VICTIMA:** vehiculo que ocupaba quien haya fallecido o terminado lastimado \n",
    "* **ACUSADO:** vehiculo que ocupaba quien resultó acusado/a del hecho, sin implicar culpabilidad legal"
   ]
  },
  {
   "cell_type": "markdown",
   "metadata": {},
   "source": [
    "Basandonos en el contenido mostrado, decidimos reducir el numero de columnas que vamos a utilizar para nuestro Analisis Exploratorio y, posteriormente, en nuestro Dashboard"
   ]
  },
  {
   "cell_type": "code",
   "execution_count": 159,
   "metadata": {},
   "outputs": [],
   "source": [
    "hechos = hechos[['ID', 'N_VICTIMAS', 'FECHA', 'HH', 'TIPO_DE_CALLE', 'Cruce', 'COMUNA', 'pos x', 'pos y', 'VICTIMA', 'ACUSADO']]"
   ]
  },
  {
   "cell_type": "markdown",
   "metadata": {},
   "source": [
    "Revisamos el estado de nuestro dataframe"
   ]
  },
  {
   "cell_type": "code",
   "execution_count": 160,
   "metadata": {},
   "outputs": [
    {
     "data": {
      "text/html": [
       "<div>\n",
       "<style scoped>\n",
       "    .dataframe tbody tr th:only-of-type {\n",
       "        vertical-align: middle;\n",
       "    }\n",
       "\n",
       "    .dataframe tbody tr th {\n",
       "        vertical-align: top;\n",
       "    }\n",
       "\n",
       "    .dataframe thead th {\n",
       "        text-align: right;\n",
       "    }\n",
       "</style>\n",
       "<table border=\"1\" class=\"dataframe\">\n",
       "  <thead>\n",
       "    <tr style=\"text-align: right;\">\n",
       "      <th></th>\n",
       "      <th>ID</th>\n",
       "      <th>N_VICTIMAS</th>\n",
       "      <th>FECHA</th>\n",
       "      <th>HH</th>\n",
       "      <th>TIPO_DE_CALLE</th>\n",
       "      <th>Cruce</th>\n",
       "      <th>COMUNA</th>\n",
       "      <th>pos x</th>\n",
       "      <th>pos y</th>\n",
       "      <th>VICTIMA</th>\n",
       "      <th>ACUSADO</th>\n",
       "    </tr>\n",
       "  </thead>\n",
       "  <tbody>\n",
       "    <tr>\n",
       "      <th>0</th>\n",
       "      <td>2016-0001</td>\n",
       "      <td>1</td>\n",
       "      <td>2016-01-01</td>\n",
       "      <td>4</td>\n",
       "      <td>AVENIDA</td>\n",
       "      <td>FERNANDEZ DE LA CRUZ, F., GRAL. AV.</td>\n",
       "      <td>8</td>\n",
       "      <td>-58.47533969</td>\n",
       "      <td>-34.68757022</td>\n",
       "      <td>MOTO</td>\n",
       "      <td>AUTO</td>\n",
       "    </tr>\n",
       "    <tr>\n",
       "      <th>1</th>\n",
       "      <td>2016-0002</td>\n",
       "      <td>1</td>\n",
       "      <td>2016-01-02</td>\n",
       "      <td>1</td>\n",
       "      <td>GRAL PAZ</td>\n",
       "      <td>DE LOS CORRALES AV.</td>\n",
       "      <td>9</td>\n",
       "      <td>-58.50877521</td>\n",
       "      <td>-34.66977709</td>\n",
       "      <td>AUTO</td>\n",
       "      <td>PASAJEROS</td>\n",
       "    </tr>\n",
       "    <tr>\n",
       "      <th>2</th>\n",
       "      <td>2016-0003</td>\n",
       "      <td>1</td>\n",
       "      <td>2016-01-03</td>\n",
       "      <td>7</td>\n",
       "      <td>AVENIDA</td>\n",
       "      <td>NaN</td>\n",
       "      <td>1</td>\n",
       "      <td>-58.39040293</td>\n",
       "      <td>-34.63189362</td>\n",
       "      <td>MOTO</td>\n",
       "      <td>AUTO</td>\n",
       "    </tr>\n",
       "    <tr>\n",
       "      <th>3</th>\n",
       "      <td>2016-0004</td>\n",
       "      <td>1</td>\n",
       "      <td>2016-01-10</td>\n",
       "      <td>0</td>\n",
       "      <td>AVENIDA</td>\n",
       "      <td>VILLEGAS, CONRADO, GRAL.</td>\n",
       "      <td>8</td>\n",
       "      <td>-58.46503904</td>\n",
       "      <td>-34.68092974</td>\n",
       "      <td>MOTO</td>\n",
       "      <td>SD</td>\n",
       "    </tr>\n",
       "    <tr>\n",
       "      <th>4</th>\n",
       "      <td>2016-0005</td>\n",
       "      <td>1</td>\n",
       "      <td>2016-01-21</td>\n",
       "      <td>5</td>\n",
       "      <td>AVENIDA</td>\n",
       "      <td>SAENZ PE?A, LUIS, PRES.</td>\n",
       "      <td>1</td>\n",
       "      <td>-58.38718297</td>\n",
       "      <td>-34.62246630</td>\n",
       "      <td>MOTO</td>\n",
       "      <td>PASAJEROS</td>\n",
       "    </tr>\n",
       "  </tbody>\n",
       "</table>\n",
       "</div>"
      ],
      "text/plain": [
       "          ID  N_VICTIMAS      FECHA HH TIPO_DE_CALLE  \\\n",
       "0  2016-0001           1 2016-01-01  4       AVENIDA   \n",
       "1  2016-0002           1 2016-01-02  1      GRAL PAZ   \n",
       "2  2016-0003           1 2016-01-03  7       AVENIDA   \n",
       "3  2016-0004           1 2016-01-10  0       AVENIDA   \n",
       "4  2016-0005           1 2016-01-21  5       AVENIDA   \n",
       "\n",
       "                                 Cruce  COMUNA         pos x         pos y  \\\n",
       "0  FERNANDEZ DE LA CRUZ, F., GRAL. AV.       8  -58.47533969  -34.68757022   \n",
       "1                  DE LOS CORRALES AV.       9  -58.50877521  -34.66977709   \n",
       "2                                  NaN       1  -58.39040293  -34.63189362   \n",
       "3             VILLEGAS, CONRADO, GRAL.       8  -58.46503904  -34.68092974   \n",
       "4              SAENZ PE?A, LUIS, PRES.       1  -58.38718297  -34.62246630   \n",
       "\n",
       "  VICTIMA    ACUSADO  \n",
       "0    MOTO       AUTO  \n",
       "1    AUTO  PASAJEROS  \n",
       "2    MOTO       AUTO  \n",
       "3    MOTO         SD  \n",
       "4    MOTO  PASAJEROS  "
      ]
     },
     "execution_count": 160,
     "metadata": {},
     "output_type": "execute_result"
    }
   ],
   "source": [
    "hechos.head()"
   ]
  },
  {
   "cell_type": "markdown",
   "metadata": {},
   "source": [
    "Observamos los tipos de dato en cada columna"
   ]
  },
  {
   "cell_type": "code",
   "execution_count": 161,
   "metadata": {},
   "outputs": [
    {
     "name": "stdout",
     "output_type": "stream",
     "text": [
      "<class 'pandas.core.frame.DataFrame'>\n",
      "RangeIndex: 696 entries, 0 to 695\n",
      "Data columns (total 11 columns):\n",
      " #   Column         Non-Null Count  Dtype         \n",
      "---  ------         --------------  -----         \n",
      " 0   ID             696 non-null    object        \n",
      " 1   N_VICTIMAS     696 non-null    int64         \n",
      " 2   FECHA          696 non-null    datetime64[ns]\n",
      " 3   HH             696 non-null    object        \n",
      " 4   TIPO_DE_CALLE  696 non-null    object        \n",
      " 5   Cruce          525 non-null    object        \n",
      " 6   COMUNA         696 non-null    int64         \n",
      " 7   pos x          696 non-null    object        \n",
      " 8   pos y          696 non-null    object        \n",
      " 9   VICTIMA        696 non-null    object        \n",
      " 10  ACUSADO        696 non-null    object        \n",
      "dtypes: datetime64[ns](1), int64(2), object(8)\n",
      "memory usage: 59.9+ KB\n"
     ]
    }
   ],
   "source": [
    "hechos.info()"
   ]
  },
  {
   "cell_type": "markdown",
   "metadata": {},
   "source": [
    "Chequeo de nulos por columna"
   ]
  },
  {
   "cell_type": "code",
   "execution_count": 162,
   "metadata": {},
   "outputs": [
    {
     "data": {
      "text/plain": [
       "ID                 0\n",
       "N_VICTIMAS         0\n",
       "FECHA              0\n",
       "HH                 0\n",
       "TIPO_DE_CALLE      0\n",
       "Cruce            171\n",
       "COMUNA             0\n",
       "pos x              0\n",
       "pos y              0\n",
       "VICTIMA            0\n",
       "ACUSADO            0\n",
       "dtype: int64"
      ]
     },
     "execution_count": 162,
     "metadata": {},
     "output_type": "execute_result"
    }
   ],
   "source": [
    "hechos.isnull().sum()"
   ]
  },
  {
   "cell_type": "markdown",
   "metadata": {},
   "source": [
    "Observaciones: notamos una gran cantidad de nulos tanto en 'Cruce'"
   ]
  },
  {
   "cell_type": "code",
   "execution_count": 163,
   "metadata": {},
   "outputs": [
    {
     "name": "stdout",
     "output_type": "stream",
     "text": [
      "El porcentaje de valores nulos en la columna Cruce es de 24%\n"
     ]
    }
   ],
   "source": [
    "nulos_cruce = int(hechos['Cruce'].isnull().mean() * 100)\n",
    "print(f'El porcentaje de valores nulos en la columna Cruce es de {nulos_cruce}%')"
   ]
  },
  {
   "cell_type": "markdown",
   "metadata": {},
   "source": [
    "Decidimos cambiar la columna a tipo booleano, para saber si el siniestro fue en una intersección"
   ]
  },
  {
   "cell_type": "code",
   "execution_count": 164,
   "metadata": {},
   "outputs": [
    {
     "data": {
      "text/plain": [
       "Cruce\n",
       "True     75.431034\n",
       "False    24.568966\n",
       "Name: proportion, dtype: float64"
      ]
     },
     "execution_count": 164,
     "metadata": {},
     "output_type": "execute_result"
    }
   ],
   "source": [
    "# Cambiamos los datos nulos a 'False'\n",
    "hechos['Cruce'] = hechos['Cruce'].fillna(False).astype(bool)\n",
    "\n",
    "# Convertimos la columna a tipo bool\n",
    "hechos['Cruce'] = hechos['Cruce'].astype(bool)\n",
    "\n",
    "# Mostramos el porcentaje de cada valor\n",
    "porcentaje_cruce = hechos['Cruce'].value_counts(normalize=True) * 100\n",
    "porcentaje_cruce"
   ]
  },
  {
   "cell_type": "code",
   "execution_count": 165,
   "metadata": {},
   "outputs": [
    {
     "data": {
      "image/png": "[encoded data removed]",
      "text/plain": [
       "<Figure size 432x288 with 1 Axes>"
      ]
     },
     "metadata": {},
     "output_type": "display_data"
    }
   ],
   "source": [
    "# Calcula el conteo de True y False en la columna 'Cruce'\n",
    "conteo_cruce = hechos['Cruce'].value_counts()\n",
    "\n",
    "# Define las etiquetas manualmente\n",
    "etiquetas = ['Si', 'No']\n",
    "\n",
    "# Crea un gráfico de torta con etiquetas definidas manualmente\n",
    "conteo_cruce.plot(kind='pie', autopct='%1.1f%%', labels=etiquetas, colors=['skyblue', 'salmon'])\n",
    "\n",
    "# Ajusta el aspecto del gráfico\n",
    "plt.axis('equal')  # Para que la torta se vea como un círculo\n",
    "plt.ylabel(None)  # Elimina las etiquetas del eje Y\n",
    "\n",
    "# Añade un título\n",
    "plt.title('Fue el siniestro en una intersección?')\n",
    "\n",
    "# Muestra el gráfico\n",
    "plt.show()"
   ]
  },
  {
   "cell_type": "markdown",
   "metadata": {},
   "source": [
    "Observaciones: el grafico de torta nos muestra las proporciones, dejando claro que aproximadamente 3 de cada 4 choques son en intersecciones"
   ]
  },
  {
   "cell_type": "markdown",
   "metadata": {},
   "source": [
    "Cantidad de siniestros:"
   ]
  },
  {
   "cell_type": "code",
   "execution_count": 166,
   "metadata": {},
   "outputs": [
    {
     "name": "stdout",
     "output_type": "stream",
     "text": [
      "La cantidad total de siniestros fue de 696\n"
     ]
    }
   ],
   "source": [
    "total_siniestros = len(hechos['ID'].unique())\n",
    "print(f'La cantidad total de siniestros fue de {total_siniestros}')"
   ]
  },
  {
   "cell_type": "markdown",
   "metadata": {},
   "source": [
    "Verificamos los valores de la fila 'HH'"
   ]
  },
  {
   "cell_type": "code",
   "execution_count": 167,
   "metadata": {},
   "outputs": [
    {
     "data": {
      "text/plain": [
       "HH\n",
       "7     41\n",
       "6     40\n",
       "9     36\n",
       "5     35\n",
       "14    33\n",
       "12    32\n",
       "8     31\n",
       "18    31\n",
       "10    31\n",
       "16    30\n",
       "19    30\n",
       "17    30\n",
       "22    30\n",
       "21    29\n",
       "23    28\n",
       "11    27\n",
       "3     26\n",
       "20    26\n",
       "15    25\n",
       "1     24\n",
       "4     23\n",
       "0     23\n",
       "2     17\n",
       "13    17\n",
       "SD     1\n",
       "Name: count, dtype: int64"
      ]
     },
     "execution_count": 167,
     "metadata": {},
     "output_type": "execute_result"
    }
   ],
   "source": [
    "hechos['HH'].value_counts()"
   ]
  },
  {
   "cell_type": "markdown",
   "metadata": {},
   "source": [
    "Observamos un valor 'SD', y procedemos a borrarlo"
   ]
  },
  {
   "cell_type": "code",
   "execution_count": 168,
   "metadata": {},
   "outputs": [],
   "source": [
    "hechos = hechos[hechos['HH'] != 'SD']"
   ]
  },
  {
   "cell_type": "markdown",
   "metadata": {},
   "source": [
    "Verificamos si tenemos valores duplicados en el dataframe. Para eso, vamos a ver si hay duplicados en la columna 'ID'"
   ]
  },
  {
   "cell_type": "code",
   "execution_count": 169,
   "metadata": {},
   "outputs": [
    {
     "name": "stdout",
     "output_type": "stream",
     "text": [
      "No hay valores duplicados en la columna 'ID' del DataFrame.\n"
     ]
    }
   ],
   "source": [
    "if hechos['ID'].duplicated().any():\n",
    "    print(\"Hay valores duplicados en la columna 'ID' del DataFrame.\")\n",
    "else:\n",
    "    print(\"No hay valores duplicados en la columna 'ID' del DataFrame.\")"
   ]
  },
  {
   "cell_type": "markdown",
   "metadata": {},
   "source": [
    "Revisamos los valores por comuna:"
   ]
  },
  {
   "cell_type": "code",
   "execution_count": 170,
   "metadata": {},
   "outputs": [
    {
     "data": {
      "text/plain": [
       "COMUNA\n",
       "1     90\n",
       "4     76\n",
       "9     73\n",
       "8     65\n",
       "7     60\n",
       "3     45\n",
       "15    44\n",
       "13    40\n",
       "12    37\n",
       "14    35\n",
       "11    31\n",
       "10    29\n",
       "2     25\n",
       "5     22\n",
       "6     21\n",
       "0      2\n",
       "Name: count, dtype: int64"
      ]
     },
     "execution_count": 170,
     "metadata": {},
     "output_type": "execute_result"
    }
   ],
   "source": [
    "hechos['COMUNA'].value_counts()"
   ]
  },
  {
   "cell_type": "markdown",
   "metadata": {},
   "source": [
    "Encontramos dos valores en una supuesta comuna 0, lo cual es un error al no existir la comuna 0. Procedemos a borrarlos"
   ]
  },
  {
   "cell_type": "code",
   "execution_count": 171,
   "metadata": {},
   "outputs": [],
   "source": [
    "hechos = hechos[hechos['COMUNA'] != 0]"
   ]
  },
  {
   "cell_type": "markdown",
   "metadata": {},
   "source": [
    "Revisamos la cantidad de siniestros por comuna:"
   ]
  },
  {
   "cell_type": "code",
   "execution_count": 172,
   "metadata": {},
   "outputs": [
    {
     "data": {
      "image/png": "[encoded data removed]",
      "text/plain": [
       "<Figure size 720x432 with 1 Axes>"
      ]
     },
     "metadata": {
      "needs_background": "light"
     },
     "output_type": "display_data"
    }
   ],
   "source": [
    "# Agrupa los datos por comuna y cuenta el número de siniestros en cada una\n",
    "siniestros_por_comuna = hechos.groupby('COMUNA').size()\n",
    "\n",
    "# Ordena los datos de mayor a menor cantidad de siniestros\n",
    "siniestros_por_comuna = siniestros_por_comuna.sort_values(ascending=False)\n",
    "\n",
    "# Define una paleta de colores más adecuada y luego invierte la lista\n",
    "colores = list(reversed(sns.color_palette(\"Reds\", len(siniestros_por_comuna))))\n",
    "\n",
    "# Crea un gráfico de barras con la nueva paleta de colores\n",
    "plt.figure(figsize=(10, 6))\n",
    "grafico = siniestros_por_comuna.plot(kind='bar', color=colores)\n",
    "\n",
    "# Agrega el número de siniestros en cada barra\n",
    "for i, valor in enumerate(siniestros_por_comuna):\n",
    "    grafico.annotate(str(valor), (i, valor), ha='center', va='bottom')\n",
    "\n",
    "plt.xlabel('')\n",
    "plt.ylabel('Cantidad de Siniestros')\n",
    "plt.title('Cantidad de Siniestros por Comuna')\n",
    "plt.xticks(range(len(siniestros_por_comuna)), ['Comuna ' + str(comuna) for comuna in siniestros_por_comuna.index], rotation=45)\n",
    "plt.grid(axis='y', linestyle='--', alpha=0.7)\n",
    "plt.tight_layout()\n",
    "plt.show()"
   ]
  },
  {
   "cell_type": "markdown",
   "metadata": {},
   "source": [
    "Observaciones: podemos ver que la comuna 1 tiene la mayor cantidad de siniestros, dando a suponer que el motivo podría ser la gran cantidad de tráfico, al ser el centro de la Capital Federal"
   ]
  },
  {
   "cell_type": "markdown",
   "metadata": {},
   "source": [
    "Revisamos la cantidad de incidentes por tipo de calle:"
   ]
  },
  {
   "cell_type": "code",
   "execution_count": 173,
   "metadata": {},
   "outputs": [
    {
     "data": {
      "image/png": "[encoded data removed]",
      "text/plain": [
       "<Figure size 576x432 with 1 Axes>"
      ]
     },
     "metadata": {},
     "output_type": "display_data"
    }
   ],
   "source": [
    "# Define una paleta de colores más sobria\n",
    "colores = ['#2c3e50', '#34495e', '#95a5a6', '#7f8c8d']  # Grises oscuros\n",
    "\n",
    "# Cuenta la cantidad de cada tipo de calle\n",
    "conteo_tipos_calle = hechos['TIPO_DE_CALLE'].value_counts()\n",
    "\n",
    "# Crea un gráfico de torta con la paleta de colores definida\n",
    "plt.figure(figsize=(8, 6))\n",
    "plt.pie(conteo_tipos_calle, labels=conteo_tipos_calle.index, colors=colores, autopct='%1.1f%%', startangle=140)\n",
    "plt.title('Distribución de Incidentes por Tipo de Calle')\n",
    "plt.axis('equal')  # Para que el gráfico de torta sea un círculo\n",
    "plt.tight_layout()  # Ajustar el diseño\n",
    "plt.show()"
   ]
  },
  {
   "cell_type": "markdown",
   "metadata": {},
   "source": [
    "Observaciones: Mas de la mitad de los incidentes se producen en Avenidas. La diferencia es tan grande con el resto que se considera que debería ser un foco central a la hora de reducir los incientes."
   ]
  },
  {
   "cell_type": "markdown",
   "metadata": {},
   "source": [
    "#### Cantidad de incidentes por mes"
   ]
  },
  {
   "cell_type": "code",
   "execution_count": 174,
   "metadata": {},
   "outputs": [
    {
     "data": {
      "image/png": "[encoded data removed]",
      "text/plain": [
       "<Figure size 720x432 with 1 Axes>"
      ]
     },
     "metadata": {
      "needs_background": "light"
     },
     "output_type": "display_data"
    }
   ],
   "source": [
    "# Calcular la cantidad de incidentes por mes\n",
    "incidentes_por_mes = hechos.groupby(hechos['FECHA'].dt.month).size()\n",
    "\n",
    "# Ordenar los datos por el orden natural de los meses del año\n",
    "meses_nombres = {1: 'Enero', 2: 'Febrero', 3: 'Marzo', 4: 'Abril', 5: 'Mayo', 6: 'Junio', 7: 'Julio', 8: 'Agosto', 9: 'Septiembre', 10: 'Octubre', 11: 'Noviembre', 12: 'Diciembre'}\n",
    "incidentes_por_mes = incidentes_por_mes.rename(index=meses_nombres)\n",
    "\n",
    "# Graficar los incidentes por mes como un gráfico de línea\n",
    "plt.figure(figsize=(10, 6))\n",
    "plt.plot(incidentes_por_mes.index, incidentes_por_mes.values, marker='o')\n",
    "plt.xlabel('Mes')\n",
    "plt.ylabel('Cantidad de Incidentes')\n",
    "plt.title('Cantidad de Incidentes por Mes')\n",
    "plt.xticks(rotation=45)\n",
    "plt.grid(axis='y', linestyle='--', alpha=0.7)\n",
    "\n",
    "# Agregar el número de incidentes encima de cada punto en el lineplot\n",
    "for x, y in zip(incidentes_por_mes.index, incidentes_por_mes.values):\n",
    "    plt.text(x, y, str(y), ha='center', va='bottom')\n",
    "\n",
    "plt.tight_layout()\n",
    "plt.show()"
   ]
  },
  {
   "cell_type": "markdown",
   "metadata": {},
   "source": [
    "Observaciones: La diferencia de incidentes por mes parece ser bastante pareja, teniendo a Diciembre como el mes con mayor cantidad, con un total de 77."
   ]
  },
  {
   "cell_type": "markdown",
   "metadata": {},
   "source": [
    "### Cantidad de victimas por año"
   ]
  },
  {
   "cell_type": "code",
   "execution_count": 175,
   "metadata": {},
   "outputs": [
    {
     "data": {
      "image/png": "[encoded data removed]",
      "text/plain": [
       "<Figure size 720x432 with 1 Axes>"
      ]
     },
     "metadata": {
      "needs_background": "light"
     },
     "output_type": "display_data"
    }
   ],
   "source": [
    "# Calcular la cantidad de víctimas por año y graficar\n",
    "plt.figure(figsize=(10, 6))\n",
    "\n",
    "# Gráfico de barras\n",
    "hechos.groupby(hechos['FECHA'].dt.year)['N_VICTIMAS'].sum().plot(kind='bar', color='skyblue')\n",
    "plt.xlabel('Año')\n",
    "plt.ylabel('Cantidad de Víctimas')\n",
    "plt.title('Cantidad de Víctimas por Año')\n",
    "\n",
    "# Gráfico de línea\n",
    "plt.plot(hechos.groupby(hechos['FECHA'].dt.year)['N_VICTIMAS'].sum().index,\n",
    "         hechos.groupby(hechos['FECHA'].dt.year)['N_VICTIMAS'].sum().values,\n",
    "         marker='o', color='red', linewidth=2)\n",
    "\n",
    "plt.xticks(rotation=45)\n",
    "plt.grid(axis='y', linestyle='--', alpha=0.7)\n",
    "plt.tight_layout()\n",
    "plt.show()"
   ]
  },
  {
   "cell_type": "markdown",
   "metadata": {},
   "source": [
    "#### Culpabilidad en cada incidente"
   ]
  },
  {
   "cell_type": "code",
   "execution_count": 176,
   "metadata": {},
   "outputs": [
    {
     "data": {
      "image/png": "[encoded data removed]",
      "text/plain": [
       "<Figure size 720x432 with 1 Axes>"
      ]
     },
     "metadata": {
      "needs_background": "light"
     },
     "output_type": "display_data"
    }
   ],
   "source": [
    "# Calcular la cantidad de incidentes por acusado\n",
    "incidentes_por_acusado = hechos['ACUSADO'].value_counts()\n",
    "\n",
    "# Define una paleta de colores más sobria\n",
    "colores = ['#2c3e50', '#34495e', '#95a5a6', '#7f8c8d']  # Grises oscuros\n",
    "\n",
    "# Crear el gráfico de barras con colores más sobrios\n",
    "plt.figure(figsize=(10, 6))\n",
    "grafico = incidentes_por_acusado.plot(kind='bar', color=colores)\n",
    "plt.xlabel('Acusado')\n",
    "plt.ylabel('Cantidad de Incidentes')\n",
    "plt.title('Cantidad de Incidentes por Acusado')\n",
    "plt.xticks(rotation=45)\n",
    "plt.grid(axis='y', linestyle='--', alpha=0.7)\n",
    "\n",
    "# Agregar el número de incidentes encima de cada barra\n",
    "for i, valor in enumerate(incidentes_por_acusado):\n",
    "    grafico.text(i, valor, str(valor), ha='center', va='bottom')\n",
    "\n",
    "plt.tight_layout()\n",
    "plt.show()"
   ]
  },
  {
   "cell_type": "markdown",
   "metadata": {},
   "source": [
    "#### Víctimas de incidentes"
   ]
  },
  {
   "cell_type": "code",
   "execution_count": 177,
   "metadata": {},
   "outputs": [
    {
     "data": {
      "image/png": "[encoded data removed]",
      "text/plain": [
       "<Figure size 720x432 with 1 Axes>"
      ]
     },
     "metadata": {
      "needs_background": "light"
     },
     "output_type": "display_data"
    }
   ],
   "source": [
    "# Calcular la cantidad de incidentes por víctima\n",
    "incidentes_por_victima = hechos['VICTIMA'].value_counts()\n",
    "\n",
    "# Obtener la cantidad de colores necesarios para la paleta\n",
    "num_colores = len(incidentes_por_victima)\n",
    "\n",
    "# Definir una paleta de colores graduales\n",
    "paleta_colores = list(reversed(sns.color_palette(\"YlOrBr\", num_colores)))\n",
    "\n",
    "# Ordenar las víctimas por cantidad de incidentes (de mayor a menor)\n",
    "incidentes_por_victima = incidentes_por_victima.sort_values(ascending=False)\n",
    "\n",
    "# Graficar\n",
    "plt.figure(figsize=(10, 6))\n",
    "grafico = incidentes_por_victima.plot(kind='bar', color=paleta_colores)\n",
    "plt.xlabel('Víctima')\n",
    "plt.ylabel('Cantidad de Incidentes')\n",
    "plt.title('Cantidad de Incidentes por Víctima')\n",
    "plt.xticks(rotation=45)\n",
    "plt.grid(axis='y', linestyle='--', alpha=0.7)\n",
    "\n",
    "# Agregar el número de incidentes encima de cada barra\n",
    "for i, valor in enumerate(incidentes_por_victima):\n",
    "    grafico.text(i, valor, str(valor), ha='center', va='bottom')\n",
    "\n",
    "plt.tight_layout()\n",
    "plt.show()"
   ]
  },
  {
   "cell_type": "markdown",
   "metadata": {},
   "source": [
    "Observaciones: se nota una clara mayoría tanto para peatones como para Motos, con esta última como el grupo de victimas mas grande con un total de "
   ]
  },
  {
   "cell_type": "code",
   "execution_count": 178,
   "metadata": {},
   "outputs": [
    {
     "data": {
      "text/html": [
       "<div>\n",
       "<style scoped>\n",
       "    .dataframe tbody tr th:only-of-type {\n",
       "        vertical-align: middle;\n",
       "    }\n",
       "\n",
       "    .dataframe tbody tr th {\n",
       "        vertical-align: top;\n",
       "    }\n",
       "\n",
       "    .dataframe thead th {\n",
       "        text-align: right;\n",
       "    }\n",
       "</style>\n",
       "<table border=\"1\" class=\"dataframe\">\n",
       "  <thead>\n",
       "    <tr style=\"text-align: right;\">\n",
       "      <th></th>\n",
       "      <th>ID</th>\n",
       "      <th>N_VICTIMAS</th>\n",
       "      <th>FECHA</th>\n",
       "      <th>HH</th>\n",
       "      <th>TIPO_DE_CALLE</th>\n",
       "      <th>Cruce</th>\n",
       "      <th>COMUNA</th>\n",
       "      <th>pos x</th>\n",
       "      <th>pos y</th>\n",
       "      <th>VICTIMA</th>\n",
       "      <th>ACUSADO</th>\n",
       "    </tr>\n",
       "  </thead>\n",
       "  <tbody>\n",
       "    <tr>\n",
       "      <th>0</th>\n",
       "      <td>2016-0001</td>\n",
       "      <td>1</td>\n",
       "      <td>2016-01-01</td>\n",
       "      <td>4</td>\n",
       "      <td>AVENIDA</td>\n",
       "      <td>True</td>\n",
       "      <td>8</td>\n",
       "      <td>-58.47533969</td>\n",
       "      <td>-34.68757022</td>\n",
       "      <td>MOTO</td>\n",
       "      <td>AUTO</td>\n",
       "    </tr>\n",
       "    <tr>\n",
       "      <th>1</th>\n",
       "      <td>2016-0002</td>\n",
       "      <td>1</td>\n",
       "      <td>2016-01-02</td>\n",
       "      <td>1</td>\n",
       "      <td>GRAL PAZ</td>\n",
       "      <td>True</td>\n",
       "      <td>9</td>\n",
       "      <td>-58.50877521</td>\n",
       "      <td>-34.66977709</td>\n",
       "      <td>AUTO</td>\n",
       "      <td>PASAJEROS</td>\n",
       "    </tr>\n",
       "    <tr>\n",
       "      <th>2</th>\n",
       "      <td>2016-0003</td>\n",
       "      <td>1</td>\n",
       "      <td>2016-01-03</td>\n",
       "      <td>7</td>\n",
       "      <td>AVENIDA</td>\n",
       "      <td>False</td>\n",
       "      <td>1</td>\n",
       "      <td>-58.39040293</td>\n",
       "      <td>-34.63189362</td>\n",
       "      <td>MOTO</td>\n",
       "      <td>AUTO</td>\n",
       "    </tr>\n",
       "    <tr>\n",
       "      <th>3</th>\n",
       "      <td>2016-0004</td>\n",
       "      <td>1</td>\n",
       "      <td>2016-01-10</td>\n",
       "      <td>0</td>\n",
       "      <td>AVENIDA</td>\n",
       "      <td>True</td>\n",
       "      <td>8</td>\n",
       "      <td>-58.46503904</td>\n",
       "      <td>-34.68092974</td>\n",
       "      <td>MOTO</td>\n",
       "      <td>SD</td>\n",
       "    </tr>\n",
       "    <tr>\n",
       "      <th>4</th>\n",
       "      <td>2016-0005</td>\n",
       "      <td>1</td>\n",
       "      <td>2016-01-21</td>\n",
       "      <td>5</td>\n",
       "      <td>AVENIDA</td>\n",
       "      <td>True</td>\n",
       "      <td>1</td>\n",
       "      <td>-58.38718297</td>\n",
       "      <td>-34.62246630</td>\n",
       "      <td>MOTO</td>\n",
       "      <td>PASAJEROS</td>\n",
       "    </tr>\n",
       "  </tbody>\n",
       "</table>\n",
       "</div>"
      ],
      "text/plain": [
       "          ID  N_VICTIMAS      FECHA HH TIPO_DE_CALLE  Cruce  COMUNA  \\\n",
       "0  2016-0001           1 2016-01-01  4       AVENIDA   True       8   \n",
       "1  2016-0002           1 2016-01-02  1      GRAL PAZ   True       9   \n",
       "2  2016-0003           1 2016-01-03  7       AVENIDA  False       1   \n",
       "3  2016-0004           1 2016-01-10  0       AVENIDA   True       8   \n",
       "4  2016-0005           1 2016-01-21  5       AVENIDA   True       1   \n",
       "\n",
       "          pos x         pos y VICTIMA    ACUSADO  \n",
       "0  -58.47533969  -34.68757022    MOTO       AUTO  \n",
       "1  -58.50877521  -34.66977709    AUTO  PASAJEROS  \n",
       "2  -58.39040293  -34.63189362    MOTO       AUTO  \n",
       "3  -58.46503904  -34.68092974    MOTO         SD  \n",
       "4  -58.38718297  -34.62246630    MOTO  PASAJEROS  "
      ]
     },
     "execution_count": 178,
     "metadata": {},
     "output_type": "execute_result"
    }
   ],
   "source": [
    "hechos.head()"
   ]
  },
  {
   "cell_type": "markdown",
   "metadata": {},
   "source": [
    "# Dataframe 'victimas'"
   ]
  },
  {
   "cell_type": "code",
   "execution_count": 179,
   "metadata": {},
   "outputs": [
    {
     "data": {
      "text/html": [
       "<div>\n",
       "<style scoped>\n",
       "    .dataframe tbody tr th:only-of-type {\n",
       "        vertical-align: middle;\n",
       "    }\n",
       "\n",
       "    .dataframe tbody tr th {\n",
       "        vertical-align: top;\n",
       "    }\n",
       "\n",
       "    .dataframe thead th {\n",
       "        text-align: right;\n",
       "    }\n",
       "</style>\n",
       "<table border=\"1\" class=\"dataframe\">\n",
       "  <thead>\n",
       "    <tr style=\"text-align: right;\">\n",
       "      <th></th>\n",
       "      <th>ID_hecho</th>\n",
       "      <th>FECHA</th>\n",
       "      <th>AAAA</th>\n",
       "      <th>MM</th>\n",
       "      <th>DD</th>\n",
       "      <th>ROL</th>\n",
       "      <th>VICTIMA</th>\n",
       "      <th>SEXO</th>\n",
       "      <th>EDAD</th>\n",
       "      <th>FECHA_FALLECIMIENTO</th>\n",
       "    </tr>\n",
       "  </thead>\n",
       "  <tbody>\n",
       "    <tr>\n",
       "      <th>0</th>\n",
       "      <td>2016-0001</td>\n",
       "      <td>2016-01-01</td>\n",
       "      <td>2016</td>\n",
       "      <td>1</td>\n",
       "      <td>1</td>\n",
       "      <td>CONDUCTOR</td>\n",
       "      <td>MOTO</td>\n",
       "      <td>MASCULINO</td>\n",
       "      <td>19</td>\n",
       "      <td>2016-01-01 00:00:00</td>\n",
       "    </tr>\n",
       "    <tr>\n",
       "      <th>1</th>\n",
       "      <td>2016-0002</td>\n",
       "      <td>2016-01-02</td>\n",
       "      <td>2016</td>\n",
       "      <td>1</td>\n",
       "      <td>2</td>\n",
       "      <td>CONDUCTOR</td>\n",
       "      <td>AUTO</td>\n",
       "      <td>MASCULINO</td>\n",
       "      <td>70</td>\n",
       "      <td>2016-01-02 00:00:00</td>\n",
       "    </tr>\n",
       "    <tr>\n",
       "      <th>2</th>\n",
       "      <td>2016-0003</td>\n",
       "      <td>2016-01-03</td>\n",
       "      <td>2016</td>\n",
       "      <td>1</td>\n",
       "      <td>3</td>\n",
       "      <td>CONDUCTOR</td>\n",
       "      <td>MOTO</td>\n",
       "      <td>MASCULINO</td>\n",
       "      <td>30</td>\n",
       "      <td>2016-01-03 00:00:00</td>\n",
       "    </tr>\n",
       "    <tr>\n",
       "      <th>3</th>\n",
       "      <td>2016-0004</td>\n",
       "      <td>2016-01-10</td>\n",
       "      <td>2016</td>\n",
       "      <td>1</td>\n",
       "      <td>10</td>\n",
       "      <td>CONDUCTOR</td>\n",
       "      <td>MOTO</td>\n",
       "      <td>MASCULINO</td>\n",
       "      <td>18</td>\n",
       "      <td>SD</td>\n",
       "    </tr>\n",
       "    <tr>\n",
       "      <th>4</th>\n",
       "      <td>2016-0005</td>\n",
       "      <td>2016-01-21</td>\n",
       "      <td>2016</td>\n",
       "      <td>1</td>\n",
       "      <td>21</td>\n",
       "      <td>CONDUCTOR</td>\n",
       "      <td>MOTO</td>\n",
       "      <td>MASCULINO</td>\n",
       "      <td>29</td>\n",
       "      <td>2016-02-01 00:00:00</td>\n",
       "    </tr>\n",
       "    <tr>\n",
       "      <th>5</th>\n",
       "      <td>2016-0008</td>\n",
       "      <td>2016-01-24</td>\n",
       "      <td>2016</td>\n",
       "      <td>1</td>\n",
       "      <td>24</td>\n",
       "      <td>CONDUCTOR</td>\n",
       "      <td>MOTO</td>\n",
       "      <td>MASCULINO</td>\n",
       "      <td>30</td>\n",
       "      <td>2016-01-24 00:00:00</td>\n",
       "    </tr>\n",
       "    <tr>\n",
       "      <th>6</th>\n",
       "      <td>2016-0009</td>\n",
       "      <td>2016-01-24</td>\n",
       "      <td>2016</td>\n",
       "      <td>1</td>\n",
       "      <td>24</td>\n",
       "      <td>PASAJERO_ACOMPAÑANTE</td>\n",
       "      <td>MOTO</td>\n",
       "      <td>MASCULINO</td>\n",
       "      <td>29</td>\n",
       "      <td>2016-01-26 00:00:00</td>\n",
       "    </tr>\n",
       "    <tr>\n",
       "      <th>7</th>\n",
       "      <td>2016-0010</td>\n",
       "      <td>2016-01-29</td>\n",
       "      <td>2016</td>\n",
       "      <td>1</td>\n",
       "      <td>29</td>\n",
       "      <td>CONDUCTOR</td>\n",
       "      <td>MOTO</td>\n",
       "      <td>MASCULINO</td>\n",
       "      <td>18</td>\n",
       "      <td>2016-01-29 00:00:00</td>\n",
       "    </tr>\n",
       "    <tr>\n",
       "      <th>8</th>\n",
       "      <td>2016-0012</td>\n",
       "      <td>2016-02-08</td>\n",
       "      <td>2016</td>\n",
       "      <td>2</td>\n",
       "      <td>8</td>\n",
       "      <td>CONDUCTOR</td>\n",
       "      <td>MOTO</td>\n",
       "      <td>MASCULINO</td>\n",
       "      <td>22</td>\n",
       "      <td>2016-02-08 00:00:00</td>\n",
       "    </tr>\n",
       "    <tr>\n",
       "      <th>9</th>\n",
       "      <td>2016-0013</td>\n",
       "      <td>2016-02-10</td>\n",
       "      <td>2016</td>\n",
       "      <td>2</td>\n",
       "      <td>10</td>\n",
       "      <td>PEATON</td>\n",
       "      <td>PEATON</td>\n",
       "      <td>MASCULINO</td>\n",
       "      <td>16</td>\n",
       "      <td>2016-02-10 00:00:00</td>\n",
       "    </tr>\n",
       "    <tr>\n",
       "      <th>10</th>\n",
       "      <td>2016-0015</td>\n",
       "      <td>2016-02-14</td>\n",
       "      <td>2016</td>\n",
       "      <td>2</td>\n",
       "      <td>14</td>\n",
       "      <td>PEATON</td>\n",
       "      <td>PEATON</td>\n",
       "      <td>FEMENINO</td>\n",
       "      <td>16</td>\n",
       "      <td>2016-02-14 00:00:00</td>\n",
       "    </tr>\n",
       "    <tr>\n",
       "      <th>11</th>\n",
       "      <td>2016-0016</td>\n",
       "      <td>2016-02-14</td>\n",
       "      <td>2016</td>\n",
       "      <td>2</td>\n",
       "      <td>14</td>\n",
       "      <td>PASAJERO_ACOMPAÑANTE</td>\n",
       "      <td>MOTO</td>\n",
       "      <td>FEMENINO</td>\n",
       "      <td>19</td>\n",
       "      <td>2016-02-14 00:00:00</td>\n",
       "    </tr>\n",
       "    <tr>\n",
       "      <th>12</th>\n",
       "      <td>2016-0017</td>\n",
       "      <td>2016-02-15</td>\n",
       "      <td>2016</td>\n",
       "      <td>2</td>\n",
       "      <td>15</td>\n",
       "      <td>PEATON</td>\n",
       "      <td>PEATON</td>\n",
       "      <td>MASCULINO</td>\n",
       "      <td>59</td>\n",
       "      <td>2016-02-16 00:00:00</td>\n",
       "    </tr>\n",
       "    <tr>\n",
       "      <th>13</th>\n",
       "      <td>2016-0019</td>\n",
       "      <td>2016-02-17</td>\n",
       "      <td>2016</td>\n",
       "      <td>2</td>\n",
       "      <td>17</td>\n",
       "      <td>PEATON</td>\n",
       "      <td>PEATON</td>\n",
       "      <td>FEMENINO</td>\n",
       "      <td>65</td>\n",
       "      <td>2016-02-17 00:00:00</td>\n",
       "    </tr>\n",
       "    <tr>\n",
       "      <th>14</th>\n",
       "      <td>2016-0020</td>\n",
       "      <td>2016-02-17</td>\n",
       "      <td>2016</td>\n",
       "      <td>2</td>\n",
       "      <td>17</td>\n",
       "      <td>PEATON</td>\n",
       "      <td>PEATON</td>\n",
       "      <td>MASCULINO</td>\n",
       "      <td>59</td>\n",
       "      <td>2016-03-02 00:00:00</td>\n",
       "    </tr>\n",
       "    <tr>\n",
       "      <th>15</th>\n",
       "      <td>2016-0021</td>\n",
       "      <td>2016-02-17</td>\n",
       "      <td>2016</td>\n",
       "      <td>2</td>\n",
       "      <td>17</td>\n",
       "      <td>CONDUCTOR</td>\n",
       "      <td>AUTO</td>\n",
       "      <td>MASCULINO</td>\n",
       "      <td>34</td>\n",
       "      <td>2016-02-17 00:00:00</td>\n",
       "    </tr>\n",
       "    <tr>\n",
       "      <th>16</th>\n",
       "      <td>2016-0022</td>\n",
       "      <td>2016-02-21</td>\n",
       "      <td>2016</td>\n",
       "      <td>2</td>\n",
       "      <td>21</td>\n",
       "      <td>PASAJERO_ACOMPAÑANTE</td>\n",
       "      <td>MOTO</td>\n",
       "      <td>MASCULINO</td>\n",
       "      <td>41</td>\n",
       "      <td>SD</td>\n",
       "    </tr>\n",
       "    <tr>\n",
       "      <th>17</th>\n",
       "      <td>2016-0025</td>\n",
       "      <td>2016-02-28</td>\n",
       "      <td>2016</td>\n",
       "      <td>2</td>\n",
       "      <td>28</td>\n",
       "      <td>PASAJERO_ACOMPAÑANTE</td>\n",
       "      <td>AUTO</td>\n",
       "      <td>MASCULINO</td>\n",
       "      <td>34</td>\n",
       "      <td>2016-02-28 00:00:00</td>\n",
       "    </tr>\n",
       "    <tr>\n",
       "      <th>18</th>\n",
       "      <td>2016-0026</td>\n",
       "      <td>2016-02-28</td>\n",
       "      <td>2016</td>\n",
       "      <td>2</td>\n",
       "      <td>28</td>\n",
       "      <td>CONDUCTOR</td>\n",
       "      <td>AUTO</td>\n",
       "      <td>MASCULINO</td>\n",
       "      <td>30</td>\n",
       "      <td>2016-03-04 00:00:00</td>\n",
       "    </tr>\n",
       "    <tr>\n",
       "      <th>19</th>\n",
       "      <td>2016-0027</td>\n",
       "      <td>2016-02-28</td>\n",
       "      <td>2016</td>\n",
       "      <td>2</td>\n",
       "      <td>28</td>\n",
       "      <td>PASAJERO_ACOMPAÑANTE</td>\n",
       "      <td>AUTO</td>\n",
       "      <td>MASCULINO</td>\n",
       "      <td>34</td>\n",
       "      <td>SD</td>\n",
       "    </tr>\n",
       "  </tbody>\n",
       "</table>\n",
       "</div>"
      ],
      "text/plain": [
       "     ID_hecho      FECHA  AAAA  MM  DD                   ROL VICTIMA  \\\n",
       "0   2016-0001 2016-01-01  2016   1   1             CONDUCTOR    MOTO   \n",
       "1   2016-0002 2016-01-02  2016   1   2             CONDUCTOR    AUTO   \n",
       "2   2016-0003 2016-01-03  2016   1   3             CONDUCTOR    MOTO   \n",
       "3   2016-0004 2016-01-10  2016   1  10             CONDUCTOR    MOTO   \n",
       "4   2016-0005 2016-01-21  2016   1  21             CONDUCTOR    MOTO   \n",
       "5   2016-0008 2016-01-24  2016   1  24             CONDUCTOR    MOTO   \n",
       "6   2016-0009 2016-01-24  2016   1  24  PASAJERO_ACOMPAÑANTE    MOTO   \n",
       "7   2016-0010 2016-01-29  2016   1  29             CONDUCTOR    MOTO   \n",
       "8   2016-0012 2016-02-08  2016   2   8             CONDUCTOR    MOTO   \n",
       "9   2016-0013 2016-02-10  2016   2  10                PEATON  PEATON   \n",
       "10  2016-0015 2016-02-14  2016   2  14                PEATON  PEATON   \n",
       "11  2016-0016 2016-02-14  2016   2  14  PASAJERO_ACOMPAÑANTE    MOTO   \n",
       "12  2016-0017 2016-02-15  2016   2  15                PEATON  PEATON   \n",
       "13  2016-0019 2016-02-17  2016   2  17                PEATON  PEATON   \n",
       "14  2016-0020 2016-02-17  2016   2  17                PEATON  PEATON   \n",
       "15  2016-0021 2016-02-17  2016   2  17             CONDUCTOR    AUTO   \n",
       "16  2016-0022 2016-02-21  2016   2  21  PASAJERO_ACOMPAÑANTE    MOTO   \n",
       "17  2016-0025 2016-02-28  2016   2  28  PASAJERO_ACOMPAÑANTE    AUTO   \n",
       "18  2016-0026 2016-02-28  2016   2  28             CONDUCTOR    AUTO   \n",
       "19  2016-0027 2016-02-28  2016   2  28  PASAJERO_ACOMPAÑANTE    AUTO   \n",
       "\n",
       "         SEXO EDAD  FECHA_FALLECIMIENTO  \n",
       "0   MASCULINO   19  2016-01-01 00:00:00  \n",
       "1   MASCULINO   70  2016-01-02 00:00:00  \n",
       "2   MASCULINO   30  2016-01-03 00:00:00  \n",
       "3   MASCULINO   18                   SD  \n",
       "4   MASCULINO   29  2016-02-01 00:00:00  \n",
       "5   MASCULINO   30  2016-01-24 00:00:00  \n",
       "6   MASCULINO   29  2016-01-26 00:00:00  \n",
       "7   MASCULINO   18  2016-01-29 00:00:00  \n",
       "8   MASCULINO   22  2016-02-08 00:00:00  \n",
       "9   MASCULINO   16  2016-02-10 00:00:00  \n",
       "10   FEMENINO   16  2016-02-14 00:00:00  \n",
       "11   FEMENINO   19  2016-02-14 00:00:00  \n",
       "12  MASCULINO   59  2016-02-16 00:00:00  \n",
       "13   FEMENINO   65  2016-02-17 00:00:00  \n",
       "14  MASCULINO   59  2016-03-02 00:00:00  \n",
       "15  MASCULINO   34  2016-02-17 00:00:00  \n",
       "16  MASCULINO   41                   SD  \n",
       "17  MASCULINO   34  2016-02-28 00:00:00  \n",
       "18  MASCULINO   30  2016-03-04 00:00:00  \n",
       "19  MASCULINO   34                   SD  "
      ]
     },
     "execution_count": 179,
     "metadata": {},
     "output_type": "execute_result"
    }
   ],
   "source": [
    "victimas.head(20)"
   ]
  },
  {
   "cell_type": "markdown",
   "metadata": {},
   "source": [
    "Contenidos del dataframe 'victimas' por columna:\n",
    "\n",
    "* **ID_hecho:** identificador único del siniestro\n",
    "* **FECHA:** fecha en formato dd/mm/aaaa\n",
    "* **AAAA:** año del siniestro\n",
    "* **MM:** mes del siniestro\n",
    "* **DD:** día del siniestro\n",
    "* **ROL:** Posicion relativa al vehiculo que representaba la victima en el momento del siniestro\n",
    "* **VICTIMA:** Vehiculo que ocupaba quien haya fallecido o se haya lastimado a rahiz del hecho\n",
    "* **SEXO:** genero informado por fuente policial de la victima\n",
    "* **EDAD:** edad de la victima al momento del siniestro\n",
    "* **FECHA_FALLECIMIENTO:** fecha de fallecimiento de la victima"
   ]
  },
  {
   "cell_type": "markdown",
   "metadata": {},
   "source": [
    "Basandonos en el contenido mostrado, decidimos reducir el numero de columnas que vamos a utilizar para nuestro Analisis Exploratorio y, posteriormente, en nuestro Dashboard"
   ]
  },
  {
   "cell_type": "code",
   "execution_count": 180,
   "metadata": {},
   "outputs": [],
   "source": [
    "victimas = victimas[['ID_hecho', 'FECHA', 'ROL', 'VICTIMA', 'SEXO', 'EDAD', 'FECHA_FALLECIMIENTO']]"
   ]
  },
  {
   "cell_type": "markdown",
   "metadata": {},
   "source": [
    "Revisamos el estado de nuestro dataframe"
   ]
  },
  {
   "cell_type": "code",
   "execution_count": 181,
   "metadata": {},
   "outputs": [
    {
     "data": {
      "text/html": [
       "<div>\n",
       "<style scoped>\n",
       "    .dataframe tbody tr th:only-of-type {\n",
       "        vertical-align: middle;\n",
       "    }\n",
       "\n",
       "    .dataframe tbody tr th {\n",
       "        vertical-align: top;\n",
       "    }\n",
       "\n",
       "    .dataframe thead th {\n",
       "        text-align: right;\n",
       "    }\n",
       "</style>\n",
       "<table border=\"1\" class=\"dataframe\">\n",
       "  <thead>\n",
       "    <tr style=\"text-align: right;\">\n",
       "      <th></th>\n",
       "      <th>ID_hecho</th>\n",
       "      <th>FECHA</th>\n",
       "      <th>ROL</th>\n",
       "      <th>VICTIMA</th>\n",
       "      <th>SEXO</th>\n",
       "      <th>EDAD</th>\n",
       "      <th>FECHA_FALLECIMIENTO</th>\n",
       "    </tr>\n",
       "  </thead>\n",
       "  <tbody>\n",
       "    <tr>\n",
       "      <th>0</th>\n",
       "      <td>2016-0001</td>\n",
       "      <td>2016-01-01</td>\n",
       "      <td>CONDUCTOR</td>\n",
       "      <td>MOTO</td>\n",
       "      <td>MASCULINO</td>\n",
       "      <td>19</td>\n",
       "      <td>2016-01-01 00:00:00</td>\n",
       "    </tr>\n",
       "    <tr>\n",
       "      <th>1</th>\n",
       "      <td>2016-0002</td>\n",
       "      <td>2016-01-02</td>\n",
       "      <td>CONDUCTOR</td>\n",
       "      <td>AUTO</td>\n",
       "      <td>MASCULINO</td>\n",
       "      <td>70</td>\n",
       "      <td>2016-01-02 00:00:00</td>\n",
       "    </tr>\n",
       "    <tr>\n",
       "      <th>2</th>\n",
       "      <td>2016-0003</td>\n",
       "      <td>2016-01-03</td>\n",
       "      <td>CONDUCTOR</td>\n",
       "      <td>MOTO</td>\n",
       "      <td>MASCULINO</td>\n",
       "      <td>30</td>\n",
       "      <td>2016-01-03 00:00:00</td>\n",
       "    </tr>\n",
       "    <tr>\n",
       "      <th>3</th>\n",
       "      <td>2016-0004</td>\n",
       "      <td>2016-01-10</td>\n",
       "      <td>CONDUCTOR</td>\n",
       "      <td>MOTO</td>\n",
       "      <td>MASCULINO</td>\n",
       "      <td>18</td>\n",
       "      <td>SD</td>\n",
       "    </tr>\n",
       "    <tr>\n",
       "      <th>4</th>\n",
       "      <td>2016-0005</td>\n",
       "      <td>2016-01-21</td>\n",
       "      <td>CONDUCTOR</td>\n",
       "      <td>MOTO</td>\n",
       "      <td>MASCULINO</td>\n",
       "      <td>29</td>\n",
       "      <td>2016-02-01 00:00:00</td>\n",
       "    </tr>\n",
       "  </tbody>\n",
       "</table>\n",
       "</div>"
      ],
      "text/plain": [
       "    ID_hecho      FECHA        ROL VICTIMA       SEXO EDAD  \\\n",
       "0  2016-0001 2016-01-01  CONDUCTOR    MOTO  MASCULINO   19   \n",
       "1  2016-0002 2016-01-02  CONDUCTOR    AUTO  MASCULINO   70   \n",
       "2  2016-0003 2016-01-03  CONDUCTOR    MOTO  MASCULINO   30   \n",
       "3  2016-0004 2016-01-10  CONDUCTOR    MOTO  MASCULINO   18   \n",
       "4  2016-0005 2016-01-21  CONDUCTOR    MOTO  MASCULINO   29   \n",
       "\n",
       "   FECHA_FALLECIMIENTO  \n",
       "0  2016-01-01 00:00:00  \n",
       "1  2016-01-02 00:00:00  \n",
       "2  2016-01-03 00:00:00  \n",
       "3                   SD  \n",
       "4  2016-02-01 00:00:00  "
      ]
     },
     "execution_count": 181,
     "metadata": {},
     "output_type": "execute_result"
    }
   ],
   "source": [
    "victimas.head()"
   ]
  },
  {
   "cell_type": "markdown",
   "metadata": {},
   "source": [
    "Observamos que la columna 'FECHA_FALLECIMIENTO' contiene valores 'SD', que significa 'sin determinar', por lo que procedemos a cambiar la columna y que solo diga si la persona falleció o no"
   ]
  },
  {
   "cell_type": "code",
   "execution_count": 182,
   "metadata": {},
   "outputs": [
    {
     "data": {
      "text/html": [
       "<div>\n",
       "<style scoped>\n",
       "    .dataframe tbody tr th:only-of-type {\n",
       "        vertical-align: middle;\n",
       "    }\n",
       "\n",
       "    .dataframe tbody tr th {\n",
       "        vertical-align: top;\n",
       "    }\n",
       "\n",
       "    .dataframe thead th {\n",
       "        text-align: right;\n",
       "    }\n",
       "</style>\n",
       "<table border=\"1\" class=\"dataframe\">\n",
       "  <thead>\n",
       "    <tr style=\"text-align: right;\">\n",
       "      <th></th>\n",
       "      <th>ID_hecho</th>\n",
       "      <th>FECHA</th>\n",
       "      <th>ROL</th>\n",
       "      <th>VICTIMA</th>\n",
       "      <th>SEXO</th>\n",
       "      <th>EDAD</th>\n",
       "      <th>FECHA_FALLECIMIENTO</th>\n",
       "    </tr>\n",
       "  </thead>\n",
       "  <tbody>\n",
       "    <tr>\n",
       "      <th>0</th>\n",
       "      <td>2016-0001</td>\n",
       "      <td>2016-01-01</td>\n",
       "      <td>CONDUCTOR</td>\n",
       "      <td>MOTO</td>\n",
       "      <td>MASCULINO</td>\n",
       "      <td>19</td>\n",
       "      <td>True</td>\n",
       "    </tr>\n",
       "    <tr>\n",
       "      <th>1</th>\n",
       "      <td>2016-0002</td>\n",
       "      <td>2016-01-02</td>\n",
       "      <td>CONDUCTOR</td>\n",
       "      <td>AUTO</td>\n",
       "      <td>MASCULINO</td>\n",
       "      <td>70</td>\n",
       "      <td>True</td>\n",
       "    </tr>\n",
       "    <tr>\n",
       "      <th>2</th>\n",
       "      <td>2016-0003</td>\n",
       "      <td>2016-01-03</td>\n",
       "      <td>CONDUCTOR</td>\n",
       "      <td>MOTO</td>\n",
       "      <td>MASCULINO</td>\n",
       "      <td>30</td>\n",
       "      <td>True</td>\n",
       "    </tr>\n",
       "    <tr>\n",
       "      <th>3</th>\n",
       "      <td>2016-0004</td>\n",
       "      <td>2016-01-10</td>\n",
       "      <td>CONDUCTOR</td>\n",
       "      <td>MOTO</td>\n",
       "      <td>MASCULINO</td>\n",
       "      <td>18</td>\n",
       "      <td>False</td>\n",
       "    </tr>\n",
       "    <tr>\n",
       "      <th>4</th>\n",
       "      <td>2016-0005</td>\n",
       "      <td>2016-01-21</td>\n",
       "      <td>CONDUCTOR</td>\n",
       "      <td>MOTO</td>\n",
       "      <td>MASCULINO</td>\n",
       "      <td>29</td>\n",
       "      <td>True</td>\n",
       "    </tr>\n",
       "  </tbody>\n",
       "</table>\n",
       "</div>"
      ],
      "text/plain": [
       "    ID_hecho      FECHA        ROL VICTIMA       SEXO EDAD FECHA_FALLECIMIENTO\n",
       "0  2016-0001 2016-01-01  CONDUCTOR    MOTO  MASCULINO   19                True\n",
       "1  2016-0002 2016-01-02  CONDUCTOR    AUTO  MASCULINO   70                True\n",
       "2  2016-0003 2016-01-03  CONDUCTOR    MOTO  MASCULINO   30                True\n",
       "3  2016-0004 2016-01-10  CONDUCTOR    MOTO  MASCULINO   18               False\n",
       "4  2016-0005 2016-01-21  CONDUCTOR    MOTO  MASCULINO   29                True"
      ]
     },
     "execution_count": 182,
     "metadata": {},
     "output_type": "execute_result"
    }
   ],
   "source": [
    "# Reemplazar 'SD' por False\n",
    "victimas.loc[victimas['FECHA_FALLECIMIENTO'] == 'SD', 'FECHA_FALLECIMIENTO'] = False\n",
    "\n",
    "# Convertir la columna en tipo booleano\n",
    "victimas.loc[:, 'FECHA_FALLECIMIENTO'] = victimas['FECHA_FALLECIMIENTO'].astype(bool)\n",
    "\n",
    "# Mostrar el DataFrame actualizado\n",
    "victimas.head()"
   ]
  },
  {
   "cell_type": "markdown",
   "metadata": {},
   "source": [
    "Observamos los tipos de datos en cada columna"
   ]
  },
  {
   "cell_type": "code",
   "execution_count": 183,
   "metadata": {},
   "outputs": [
    {
     "name": "stdout",
     "output_type": "stream",
     "text": [
      "<class 'pandas.core.frame.DataFrame'>\n",
      "RangeIndex: 717 entries, 0 to 716\n",
      "Data columns (total 7 columns):\n",
      " #   Column               Non-Null Count  Dtype         \n",
      "---  ------               --------------  -----         \n",
      " 0   ID_hecho             717 non-null    object        \n",
      " 1   FECHA                717 non-null    datetime64[ns]\n",
      " 2   ROL                  717 non-null    object        \n",
      " 3   VICTIMA              717 non-null    object        \n",
      " 4   SEXO                 717 non-null    object        \n",
      " 5   EDAD                 717 non-null    object        \n",
      " 6   FECHA_FALLECIMIENTO  717 non-null    object        \n",
      "dtypes: datetime64[ns](1), object(6)\n",
      "memory usage: 39.3+ KB\n"
     ]
    }
   ],
   "source": [
    "victimas.info()"
   ]
  },
  {
   "cell_type": "markdown",
   "metadata": {},
   "source": [
    "Cambiamos la columna 'EDAD' a tipo entero"
   ]
  },
  {
   "cell_type": "markdown",
   "metadata": {},
   "source": [
    "Checkeamos por valores nulos por columna"
   ]
  },
  {
   "cell_type": "code",
   "execution_count": 184,
   "metadata": {},
   "outputs": [
    {
     "data": {
      "text/plain": [
       "ID_hecho               0\n",
       "FECHA                  0\n",
       "ROL                    0\n",
       "VICTIMA                0\n",
       "SEXO                   0\n",
       "EDAD                   0\n",
       "FECHA_FALLECIMIENTO    0\n",
       "dtype: int64"
      ]
     },
     "execution_count": 184,
     "metadata": {},
     "output_type": "execute_result"
    }
   ],
   "source": [
    "victimas.isnull().sum()"
   ]
  },
  {
   "cell_type": "markdown",
   "metadata": {},
   "source": [
    "Revisamos valores duplicados"
   ]
  },
  {
   "cell_type": "code",
   "execution_count": 185,
   "metadata": {},
   "outputs": [
    {
     "name": "stdout",
     "output_type": "stream",
     "text": [
      "No hay filas duplicadas en el DataFrame 'victimas'.\n"
     ]
    }
   ],
   "source": [
    "hay_duplicados = victimas.duplicated().any()\n",
    "\n",
    "if hay_duplicados:\n",
    "    print(\"Hay filas duplicadas en el DataFrame 'victimas'.\")\n",
    "else:\n",
    "    print(\"No hay filas duplicadas en el DataFrame 'victimas'.\")"
   ]
  },
  {
   "cell_type": "markdown",
   "metadata": {},
   "source": [
    "Revisamos la columna 'sexo'"
   ]
  },
  {
   "cell_type": "code",
   "execution_count": 186,
   "metadata": {},
   "outputs": [
    {
     "data": {
      "text/plain": [
       "SEXO\n",
       "MASCULINO    545\n",
       "FEMENINO     166\n",
       "SD             6\n",
       "Name: count, dtype: int64"
      ]
     },
     "execution_count": 186,
     "metadata": {},
     "output_type": "execute_result"
    }
   ],
   "source": [
    "victimas['SEXO'].value_counts()"
   ]
  },
  {
   "cell_type": "code",
   "execution_count": 187,
   "metadata": {},
   "outputs": [
    {
     "data": {
      "text/html": [
       "<div>\n",
       "<style scoped>\n",
       "    .dataframe tbody tr th:only-of-type {\n",
       "        vertical-align: middle;\n",
       "    }\n",
       "\n",
       "    .dataframe tbody tr th {\n",
       "        vertical-align: top;\n",
       "    }\n",
       "\n",
       "    .dataframe thead th {\n",
       "        text-align: right;\n",
       "    }\n",
       "</style>\n",
       "<table border=\"1\" class=\"dataframe\">\n",
       "  <thead>\n",
       "    <tr style=\"text-align: right;\">\n",
       "      <th></th>\n",
       "      <th>ID_hecho</th>\n",
       "      <th>FECHA</th>\n",
       "      <th>ROL</th>\n",
       "      <th>VICTIMA</th>\n",
       "      <th>SEXO</th>\n",
       "      <th>EDAD</th>\n",
       "      <th>FECHA_FALLECIMIENTO</th>\n",
       "    </tr>\n",
       "  </thead>\n",
       "  <tbody>\n",
       "    <tr>\n",
       "      <th>36</th>\n",
       "      <td>2016-0049</td>\n",
       "      <td>2016-04-17</td>\n",
       "      <td>SD</td>\n",
       "      <td>SD</td>\n",
       "      <td>SD</td>\n",
       "      <td>SD</td>\n",
       "      <td>False</td>\n",
       "    </tr>\n",
       "    <tr>\n",
       "      <th>39</th>\n",
       "      <td>2016-0052</td>\n",
       "      <td>2016-04-20</td>\n",
       "      <td>SD</td>\n",
       "      <td>MOTO</td>\n",
       "      <td>SD</td>\n",
       "      <td>SD</td>\n",
       "      <td>False</td>\n",
       "    </tr>\n",
       "    <tr>\n",
       "      <th>108</th>\n",
       "      <td>2016-0136</td>\n",
       "      <td>2016-10-25</td>\n",
       "      <td>CONDUCTOR</td>\n",
       "      <td>MOTO</td>\n",
       "      <td>SD</td>\n",
       "      <td>SD</td>\n",
       "      <td>False</td>\n",
       "    </tr>\n",
       "    <tr>\n",
       "      <th>121</th>\n",
       "      <td>2016-0151</td>\n",
       "      <td>2016-11-18</td>\n",
       "      <td>PEATON</td>\n",
       "      <td>PEATON</td>\n",
       "      <td>SD</td>\n",
       "      <td>SD</td>\n",
       "      <td>False</td>\n",
       "    </tr>\n",
       "    <tr>\n",
       "      <th>138</th>\n",
       "      <td>2016-0171</td>\n",
       "      <td>2016-12-25</td>\n",
       "      <td>CONDUCTOR</td>\n",
       "      <td>MOTO</td>\n",
       "      <td>SD</td>\n",
       "      <td>SD</td>\n",
       "      <td>False</td>\n",
       "    </tr>\n",
       "    <tr>\n",
       "      <th>141</th>\n",
       "      <td>2016-0174</td>\n",
       "      <td>2016-12-27</td>\n",
       "      <td>SD</td>\n",
       "      <td>SD</td>\n",
       "      <td>SD</td>\n",
       "      <td>SD</td>\n",
       "      <td>False</td>\n",
       "    </tr>\n",
       "  </tbody>\n",
       "</table>\n",
       "</div>"
      ],
      "text/plain": [
       "      ID_hecho      FECHA        ROL VICTIMA SEXO EDAD FECHA_FALLECIMIENTO\n",
       "36   2016-0049 2016-04-17         SD      SD   SD   SD               False\n",
       "39   2016-0052 2016-04-20         SD    MOTO   SD   SD               False\n",
       "108  2016-0136 2016-10-25  CONDUCTOR    MOTO   SD   SD               False\n",
       "121  2016-0151 2016-11-18     PEATON  PEATON   SD   SD               False\n",
       "138  2016-0171 2016-12-25  CONDUCTOR    MOTO   SD   SD               False\n",
       "141  2016-0174 2016-12-27         SD      SD   SD   SD               False"
      ]
     },
     "execution_count": 187,
     "metadata": {},
     "output_type": "execute_result"
    }
   ],
   "source": [
    "# Revisamos las filas donde 'sexo' es igual a 'SD'\n",
    "victimas.loc[victimas['SEXO'] == 'SD']"
   ]
  },
  {
   "cell_type": "markdown",
   "metadata": {},
   "source": [
    "Viendo el contenido de esas filas, decidimos borrarlas del dataframe"
   ]
  },
  {
   "cell_type": "code",
   "execution_count": 188,
   "metadata": {},
   "outputs": [],
   "source": [
    "victimas = victimas.drop(victimas.loc[victimas['SEXO'] == 'SD'].index)"
   ]
  },
  {
   "cell_type": "markdown",
   "metadata": {},
   "source": [
    "Revisamos la columna 'EDAD' por valores atipicos"
   ]
  },
  {
   "cell_type": "code",
   "execution_count": 189,
   "metadata": {},
   "outputs": [
    {
     "data": {
      "text/plain": [
       "EDAD\n",
       "SD    47\n",
       "30    28\n",
       "29    24\n",
       "23    24\n",
       "27    20\n",
       "      ..\n",
       "11     1\n",
       "13     1\n",
       "85     1\n",
       "7      1\n",
       "88     1\n",
       "Name: count, Length: 86, dtype: int64"
      ]
     },
     "execution_count": 189,
     "metadata": {},
     "output_type": "execute_result"
    }
   ],
   "source": [
    "victimas['EDAD'].value_counts()"
   ]
  },
  {
   "cell_type": "markdown",
   "metadata": {},
   "source": [
    "Observamos que hay filas con el valor 'SD'"
   ]
  },
  {
   "cell_type": "code",
   "execution_count": 190,
   "metadata": {},
   "outputs": [
    {
     "name": "stdout",
     "output_type": "stream",
     "text": [
      "Porcentaje de valores igual a 'SD': 6.61%\n",
      "Porcentaje de valores distintos de 'SD': 93.39%\n"
     ]
    }
   ],
   "source": [
    "# Calcular el porcentaje de valores igual a 'SD' en la columna 'EDAD'\n",
    "porcentaje_SD = (victimas['EDAD'] == 'SD').mean() * 100\n",
    "\n",
    "# Calcular el porcentaje de valores distintos de 'SD' en la columna 'EDAD'\n",
    "porcentaje_no_SD = 100 - porcentaje_SD\n",
    "\n",
    "print(\"Porcentaje de valores igual a 'SD': {:.2f}%\".format(porcentaje_SD))\n",
    "print(\"Porcentaje de valores distintos de 'SD': {:.2f}%\".format(porcentaje_no_SD))"
   ]
  },
  {
   "cell_type": "markdown",
   "metadata": {},
   "source": [
    "Viendo esto, procedemos a borrarlas para poder realizar graficos"
   ]
  },
  {
   "cell_type": "code",
   "execution_count": 191,
   "metadata": {},
   "outputs": [],
   "source": [
    "victimas = victimas[victimas['EDAD'] != 'SD']"
   ]
  },
  {
   "cell_type": "markdown",
   "metadata": {},
   "source": [
    "Ahora realizamos un boxplot para encontrar valores atipicos"
   ]
  },
  {
   "cell_type": "code",
   "execution_count": 192,
   "metadata": {},
   "outputs": [
    {
     "data": {
      "image/png": "[encoded data removed]",
      "text/plain": [
       "<Figure size 576x432 with 1 Axes>"
      ]
     },
     "metadata": {
      "needs_background": "light"
     },
     "output_type": "display_data"
    }
   ],
   "source": [
    "# Crear el boxplot de la columna 'EDAD'\n",
    "plt.figure(figsize=(8, 6))\n",
    "sns.boxplot(x='EDAD', data=victimas, color='skyblue')\n",
    "plt.title('Boxplot de Edades')\n",
    "plt.xlabel('Edad')\n",
    "plt.grid(axis='y', linestyle='--', alpha=0.7)\n",
    "plt.show()"
   ]
  },
  {
   "cell_type": "markdown",
   "metadata": {},
   "source": [
    "Observaciones: no encontramos valores atipicos fuera de los 100 años"
   ]
  },
  {
   "cell_type": "code",
   "execution_count": 193,
   "metadata": {},
   "outputs": [
    {
     "data": {
      "image/png": "[encoded data removed]",
      "text/plain": [
       "<Figure size 576x432 with 1 Axes>"
      ]
     },
     "metadata": {},
     "output_type": "display_data"
    }
   ],
   "source": [
    "# Calcular la distribución del sexo de las víctimas\n",
    "distribucion_sexo = victimas['SEXO'].value_counts()\n",
    "\n",
    "# Crear el gráfico de torta\n",
    "plt.figure(figsize=(8, 6))\n",
    "plt.pie(distribucion_sexo, labels=distribucion_sexo.index, autopct='%1.1f%%', colors=['skyblue', 'lightcoral'])\n",
    "plt.title('Distribución del Sexo de las Víctimas')\n",
    "plt.axis('equal')  # Para que el gráfico sea un círculo\n",
    "plt.show()"
   ]
  },
  {
   "cell_type": "markdown",
   "metadata": {},
   "source": [
    "Observación: 3/4 de las victimas son de genero masculino"
   ]
  },
  {
   "cell_type": "markdown",
   "metadata": {},
   "source": [
    "#### Procedemos a cambiar el nombre de cada columna en ambos dataframes"
   ]
  },
  {
   "cell_type": "code",
   "execution_count": 194,
   "metadata": {},
   "outputs": [
    {
     "data": {
      "text/plain": [
       "Index(['ID', 'N_VICTIMAS', 'FECHA', 'HH', 'TIPO_DE_CALLE', 'Cruce', 'COMUNA',\n",
       "       'pos x', 'pos y', 'VICTIMA', 'ACUSADO'],\n",
       "      dtype='object')"
      ]
     },
     "execution_count": 194,
     "metadata": {},
     "output_type": "execute_result"
    }
   ],
   "source": [
    "hechos.columns"
   ]
  },
  {
   "cell_type": "code",
   "execution_count": 195,
   "metadata": {},
   "outputs": [],
   "source": [
    "# Creamos una lista con los nuevos nombres para el dataframe 'hechos'\n",
    "hechos_lista = ['id', 'cantidad_victimas', 'fecha', 'franja_horaria', 'tipo_de_calle', 'cruce', 'comuna', 'longitud', 'latitud', 'vehiculo_victima', 'vehiculo_acusado']\n",
    "\n",
    "# Asignamos los nuevos nombres\n",
    "hechos.columns = hechos_lista"
   ]
  },
  {
   "cell_type": "code",
   "execution_count": 196,
   "metadata": {},
   "outputs": [],
   "source": [
    "# Creamos una lista con los nuevos nombres para el dataframe 'victimas'\n",
    "victimas_lista = ['id', 'fecha', 'rol', 'vehiculo_victima', 'sexo_victima', 'edad_victima', 'fatal']\n",
    "\n",
    "# Asignamos los nuevos nombres\n",
    "victimas.columns = victimas_lista"
   ]
  },
  {
   "cell_type": "markdown",
   "metadata": {},
   "source": [
    "Exportamos los archivos en formato CSV para utilizar en Power BI"
   ]
  },
  {
   "cell_type": "code",
   "execution_count": 198,
   "metadata": {},
   "outputs": [],
   "source": [
    "victimas.to_csv('datasets/victimas_df.csv', index=False)\n",
    "hechos.to_csv('datasets/hechos_df.csv', index=False)"
   ]
  },
  {
   "cell_type": "code",
   "execution_count": 204,
   "metadata": {},
   "outputs": [
    {
     "data": {
      "text/html": [
       "<div>\n",
       "<style scoped>\n",
       "    .dataframe tbody tr th:only-of-type {\n",
       "        vertical-align: middle;\n",
       "    }\n",
       "\n",
       "    .dataframe tbody tr th {\n",
       "        vertical-align: top;\n",
       "    }\n",
       "\n",
       "    .dataframe thead th {\n",
       "        text-align: right;\n",
       "    }\n",
       "</style>\n",
       "<table border=\"1\" class=\"dataframe\">\n",
       "  <thead>\n",
       "    <tr style=\"text-align: right;\">\n",
       "      <th></th>\n",
       "      <th>id</th>\n",
       "      <th>fecha</th>\n",
       "      <th>rol</th>\n",
       "      <th>vehiculo_victima</th>\n",
       "      <th>sexo_victima</th>\n",
       "      <th>edad_victima</th>\n",
       "      <th>fatal</th>\n",
       "    </tr>\n",
       "  </thead>\n",
       "  <tbody>\n",
       "    <tr>\n",
       "      <th>3</th>\n",
       "      <td>2016-0004</td>\n",
       "      <td>2016-01-10</td>\n",
       "      <td>CONDUCTOR</td>\n",
       "      <td>MOTO</td>\n",
       "      <td>MASCULINO</td>\n",
       "      <td>18</td>\n",
       "      <td>False</td>\n",
       "    </tr>\n",
       "    <tr>\n",
       "      <th>16</th>\n",
       "      <td>2016-0022</td>\n",
       "      <td>2016-02-21</td>\n",
       "      <td>PASAJERO_ACOMPAÑANTE</td>\n",
       "      <td>MOTO</td>\n",
       "      <td>MASCULINO</td>\n",
       "      <td>41</td>\n",
       "      <td>False</td>\n",
       "    </tr>\n",
       "    <tr>\n",
       "      <th>19</th>\n",
       "      <td>2016-0027</td>\n",
       "      <td>2016-02-28</td>\n",
       "      <td>PASAJERO_ACOMPAÑANTE</td>\n",
       "      <td>AUTO</td>\n",
       "      <td>MASCULINO</td>\n",
       "      <td>34</td>\n",
       "      <td>False</td>\n",
       "    </tr>\n",
       "    <tr>\n",
       "      <th>22</th>\n",
       "      <td>2016-0031</td>\n",
       "      <td>2016-03-08</td>\n",
       "      <td>CONDUCTOR</td>\n",
       "      <td>MOTO</td>\n",
       "      <td>MASCULINO</td>\n",
       "      <td>21</td>\n",
       "      <td>False</td>\n",
       "    </tr>\n",
       "    <tr>\n",
       "      <th>46</th>\n",
       "      <td>2016-0064</td>\n",
       "      <td>2016-05-14</td>\n",
       "      <td>PEATON</td>\n",
       "      <td>PEATON</td>\n",
       "      <td>MASCULINO</td>\n",
       "      <td>20</td>\n",
       "      <td>False</td>\n",
       "    </tr>\n",
       "    <tr>\n",
       "      <th>48</th>\n",
       "      <td>2016-0067</td>\n",
       "      <td>2016-05-21</td>\n",
       "      <td>PASAJERO_ACOMPAÑANTE</td>\n",
       "      <td>MOTO</td>\n",
       "      <td>FEMENINO</td>\n",
       "      <td>30</td>\n",
       "      <td>False</td>\n",
       "    </tr>\n",
       "    <tr>\n",
       "      <th>49</th>\n",
       "      <td>2016-0068</td>\n",
       "      <td>2016-05-22</td>\n",
       "      <td>CONDUCTOR</td>\n",
       "      <td>MOTO</td>\n",
       "      <td>MASCULINO</td>\n",
       "      <td>58</td>\n",
       "      <td>False</td>\n",
       "    </tr>\n",
       "    <tr>\n",
       "      <th>51</th>\n",
       "      <td>2016-0073</td>\n",
       "      <td>2016-06-11</td>\n",
       "      <td>CONDUCTOR</td>\n",
       "      <td>MOTO</td>\n",
       "      <td>MASCULINO</td>\n",
       "      <td>23</td>\n",
       "      <td>False</td>\n",
       "    </tr>\n",
       "    <tr>\n",
       "      <th>52</th>\n",
       "      <td>2016-0074</td>\n",
       "      <td>2016-06-12</td>\n",
       "      <td>CONDUCTOR</td>\n",
       "      <td>AUTO</td>\n",
       "      <td>MASCULINO</td>\n",
       "      <td>60</td>\n",
       "      <td>False</td>\n",
       "    </tr>\n",
       "    <tr>\n",
       "      <th>56</th>\n",
       "      <td>2016-0078</td>\n",
       "      <td>2016-06-13</td>\n",
       "      <td>CONDUCTOR</td>\n",
       "      <td>MOTO</td>\n",
       "      <td>MASCULINO</td>\n",
       "      <td>30</td>\n",
       "      <td>False</td>\n",
       "    </tr>\n",
       "    <tr>\n",
       "      <th>57</th>\n",
       "      <td>2016-0079</td>\n",
       "      <td>2016-06-16</td>\n",
       "      <td>CONDUCTOR</td>\n",
       "      <td>AUTO</td>\n",
       "      <td>FEMENINO</td>\n",
       "      <td>51</td>\n",
       "      <td>False</td>\n",
       "    </tr>\n",
       "    <tr>\n",
       "      <th>58</th>\n",
       "      <td>2016-0080</td>\n",
       "      <td>2016-06-18</td>\n",
       "      <td>CONDUCTOR</td>\n",
       "      <td>AUTO</td>\n",
       "      <td>MASCULINO</td>\n",
       "      <td>60</td>\n",
       "      <td>False</td>\n",
       "    </tr>\n",
       "    <tr>\n",
       "      <th>59</th>\n",
       "      <td>2016-0081</td>\n",
       "      <td>2016-06-22</td>\n",
       "      <td>CONDUCTOR</td>\n",
       "      <td>MOTO</td>\n",
       "      <td>MASCULINO</td>\n",
       "      <td>40</td>\n",
       "      <td>False</td>\n",
       "    </tr>\n",
       "    <tr>\n",
       "      <th>74</th>\n",
       "      <td>2016-0098</td>\n",
       "      <td>2016-07-27</td>\n",
       "      <td>CONDUCTOR</td>\n",
       "      <td>MOTO</td>\n",
       "      <td>FEMENINO</td>\n",
       "      <td>43</td>\n",
       "      <td>False</td>\n",
       "    </tr>\n",
       "    <tr>\n",
       "      <th>75</th>\n",
       "      <td>2016-0099</td>\n",
       "      <td>2016-07-29</td>\n",
       "      <td>CONDUCTOR</td>\n",
       "      <td>CARGAS</td>\n",
       "      <td>MASCULINO</td>\n",
       "      <td>45</td>\n",
       "      <td>False</td>\n",
       "    </tr>\n",
       "    <tr>\n",
       "      <th>77</th>\n",
       "      <td>2016-0101</td>\n",
       "      <td>2016-08-07</td>\n",
       "      <td>SD</td>\n",
       "      <td>SD</td>\n",
       "      <td>MASCULINO</td>\n",
       "      <td>67</td>\n",
       "      <td>False</td>\n",
       "    </tr>\n",
       "    <tr>\n",
       "      <th>78</th>\n",
       "      <td>2016-0102</td>\n",
       "      <td>2016-08-10</td>\n",
       "      <td>CONDUCTOR</td>\n",
       "      <td>MOTO</td>\n",
       "      <td>MASCULINO</td>\n",
       "      <td>29</td>\n",
       "      <td>False</td>\n",
       "    </tr>\n",
       "    <tr>\n",
       "      <th>81</th>\n",
       "      <td>2016-0106</td>\n",
       "      <td>2016-08-19</td>\n",
       "      <td>PEATON</td>\n",
       "      <td>PEATON</td>\n",
       "      <td>MASCULINO</td>\n",
       "      <td>38</td>\n",
       "      <td>False</td>\n",
       "    </tr>\n",
       "    <tr>\n",
       "      <th>82</th>\n",
       "      <td>2016-0107</td>\n",
       "      <td>2016-08-20</td>\n",
       "      <td>CONDUCTOR</td>\n",
       "      <td>MOTO</td>\n",
       "      <td>MASCULINO</td>\n",
       "      <td>21</td>\n",
       "      <td>False</td>\n",
       "    </tr>\n",
       "    <tr>\n",
       "      <th>84</th>\n",
       "      <td>2016-0110</td>\n",
       "      <td>2016-08-24</td>\n",
       "      <td>PEATON</td>\n",
       "      <td>PEATON</td>\n",
       "      <td>MASCULINO</td>\n",
       "      <td>57</td>\n",
       "      <td>False</td>\n",
       "    </tr>\n",
       "    <tr>\n",
       "      <th>87</th>\n",
       "      <td>2016-0113</td>\n",
       "      <td>2016-08-27</td>\n",
       "      <td>PEATON</td>\n",
       "      <td>PEATON</td>\n",
       "      <td>FEMENINO</td>\n",
       "      <td>60</td>\n",
       "      <td>False</td>\n",
       "    </tr>\n",
       "    <tr>\n",
       "      <th>91</th>\n",
       "      <td>2016-0117</td>\n",
       "      <td>2016-09-03</td>\n",
       "      <td>CONDUCTOR</td>\n",
       "      <td>AUTO</td>\n",
       "      <td>MASCULINO</td>\n",
       "      <td>43</td>\n",
       "      <td>False</td>\n",
       "    </tr>\n",
       "    <tr>\n",
       "      <th>95</th>\n",
       "      <td>2016-0123</td>\n",
       "      <td>2016-09-14</td>\n",
       "      <td>CONDUCTOR</td>\n",
       "      <td>MOTO</td>\n",
       "      <td>FEMENINO</td>\n",
       "      <td>58</td>\n",
       "      <td>False</td>\n",
       "    </tr>\n",
       "    <tr>\n",
       "      <th>96</th>\n",
       "      <td>2016-0124</td>\n",
       "      <td>2016-09-16</td>\n",
       "      <td>PEATON</td>\n",
       "      <td>PEATON</td>\n",
       "      <td>MASCULINO</td>\n",
       "      <td>67</td>\n",
       "      <td>False</td>\n",
       "    </tr>\n",
       "    <tr>\n",
       "      <th>97</th>\n",
       "      <td>2016-0125</td>\n",
       "      <td>2016-09-17</td>\n",
       "      <td>CONDUCTOR</td>\n",
       "      <td>MOTO</td>\n",
       "      <td>MASCULINO</td>\n",
       "      <td>30</td>\n",
       "      <td>False</td>\n",
       "    </tr>\n",
       "    <tr>\n",
       "      <th>98</th>\n",
       "      <td>2016-0126</td>\n",
       "      <td>2016-09-18</td>\n",
       "      <td>CONDUCTOR</td>\n",
       "      <td>AUTO</td>\n",
       "      <td>MASCULINO</td>\n",
       "      <td>37</td>\n",
       "      <td>False</td>\n",
       "    </tr>\n",
       "    <tr>\n",
       "      <th>99</th>\n",
       "      <td>2016-0126</td>\n",
       "      <td>2016-09-18</td>\n",
       "      <td>PASAJERO_ACOMPAÑANTE</td>\n",
       "      <td>AUTO</td>\n",
       "      <td>MASCULINO</td>\n",
       "      <td>60</td>\n",
       "      <td>False</td>\n",
       "    </tr>\n",
       "    <tr>\n",
       "      <th>100</th>\n",
       "      <td>2016-0127</td>\n",
       "      <td>2016-09-24</td>\n",
       "      <td>PEATON</td>\n",
       "      <td>PEATON</td>\n",
       "      <td>MASCULINO</td>\n",
       "      <td>50</td>\n",
       "      <td>False</td>\n",
       "    </tr>\n",
       "    <tr>\n",
       "      <th>103</th>\n",
       "      <td>2016-0131</td>\n",
       "      <td>2016-10-09</td>\n",
       "      <td>PEATON</td>\n",
       "      <td>PEATON</td>\n",
       "      <td>MASCULINO</td>\n",
       "      <td>35</td>\n",
       "      <td>False</td>\n",
       "    </tr>\n",
       "    <tr>\n",
       "      <th>109</th>\n",
       "      <td>2016-0137</td>\n",
       "      <td>2016-10-25</td>\n",
       "      <td>CONDUCTOR</td>\n",
       "      <td>MOTO</td>\n",
       "      <td>MASCULINO</td>\n",
       "      <td>30</td>\n",
       "      <td>False</td>\n",
       "    </tr>\n",
       "    <tr>\n",
       "      <th>110</th>\n",
       "      <td>2016-0138</td>\n",
       "      <td>2016-10-27</td>\n",
       "      <td>CICLISTA</td>\n",
       "      <td>BICICLETA</td>\n",
       "      <td>FEMENINO</td>\n",
       "      <td>33</td>\n",
       "      <td>False</td>\n",
       "    </tr>\n",
       "    <tr>\n",
       "      <th>111</th>\n",
       "      <td>2016-0139</td>\n",
       "      <td>2016-10-28</td>\n",
       "      <td>PASAJERO_ACOMPAÑANTE</td>\n",
       "      <td>MOTO</td>\n",
       "      <td>FEMENINO</td>\n",
       "      <td>35</td>\n",
       "      <td>False</td>\n",
       "    </tr>\n",
       "    <tr>\n",
       "      <th>112</th>\n",
       "      <td>2016-0140</td>\n",
       "      <td>2016-10-31</td>\n",
       "      <td>PASAJERO_ACOMPAÑANTE</td>\n",
       "      <td>PASAJEROS</td>\n",
       "      <td>MASCULINO</td>\n",
       "      <td>20</td>\n",
       "      <td>False</td>\n",
       "    </tr>\n",
       "    <tr>\n",
       "      <th>114</th>\n",
       "      <td>2016-0143</td>\n",
       "      <td>2016-11-06</td>\n",
       "      <td>CONDUCTOR</td>\n",
       "      <td>MOTO</td>\n",
       "      <td>MASCULINO</td>\n",
       "      <td>35</td>\n",
       "      <td>False</td>\n",
       "    </tr>\n",
       "    <tr>\n",
       "      <th>115</th>\n",
       "      <td>2016-0144</td>\n",
       "      <td>2016-11-07</td>\n",
       "      <td>PEATON</td>\n",
       "      <td>PEATON</td>\n",
       "      <td>MASCULINO</td>\n",
       "      <td>83</td>\n",
       "      <td>False</td>\n",
       "    </tr>\n",
       "    <tr>\n",
       "      <th>117</th>\n",
       "      <td>2016-0146</td>\n",
       "      <td>2016-11-09</td>\n",
       "      <td>PEATON</td>\n",
       "      <td>PEATON</td>\n",
       "      <td>FEMENINO</td>\n",
       "      <td>29</td>\n",
       "      <td>False</td>\n",
       "    </tr>\n",
       "    <tr>\n",
       "      <th>124</th>\n",
       "      <td>2016-0154</td>\n",
       "      <td>2016-11-26</td>\n",
       "      <td>CONDUCTOR</td>\n",
       "      <td>MOTO</td>\n",
       "      <td>MASCULINO</td>\n",
       "      <td>38</td>\n",
       "      <td>False</td>\n",
       "    </tr>\n",
       "    <tr>\n",
       "      <th>125</th>\n",
       "      <td>2016-0155</td>\n",
       "      <td>2016-11-26</td>\n",
       "      <td>PEATON</td>\n",
       "      <td>PEATON</td>\n",
       "      <td>FEMENINO</td>\n",
       "      <td>29</td>\n",
       "      <td>False</td>\n",
       "    </tr>\n",
       "    <tr>\n",
       "      <th>127</th>\n",
       "      <td>2016-0157</td>\n",
       "      <td>2016-12-03</td>\n",
       "      <td>CONDUCTOR</td>\n",
       "      <td>MOTO</td>\n",
       "      <td>MASCULINO</td>\n",
       "      <td>23</td>\n",
       "      <td>False</td>\n",
       "    </tr>\n",
       "    <tr>\n",
       "      <th>128</th>\n",
       "      <td>2016-0159</td>\n",
       "      <td>2016-12-04</td>\n",
       "      <td>CONDUCTOR</td>\n",
       "      <td>AUTO</td>\n",
       "      <td>MASCULINO</td>\n",
       "      <td>23</td>\n",
       "      <td>False</td>\n",
       "    </tr>\n",
       "    <tr>\n",
       "      <th>132</th>\n",
       "      <td>2016-0163</td>\n",
       "      <td>2016-12-10</td>\n",
       "      <td>CONDUCTOR</td>\n",
       "      <td>MOTO</td>\n",
       "      <td>MASCULINO</td>\n",
       "      <td>23</td>\n",
       "      <td>False</td>\n",
       "    </tr>\n",
       "    <tr>\n",
       "      <th>133</th>\n",
       "      <td>2016-0164</td>\n",
       "      <td>2016-12-11</td>\n",
       "      <td>CONDUCTOR</td>\n",
       "      <td>AUTO</td>\n",
       "      <td>MASCULINO</td>\n",
       "      <td>29</td>\n",
       "      <td>False</td>\n",
       "    </tr>\n",
       "    <tr>\n",
       "      <th>134</th>\n",
       "      <td>2016-0165</td>\n",
       "      <td>2016-12-12</td>\n",
       "      <td>CICLISTA</td>\n",
       "      <td>BICICLETA</td>\n",
       "      <td>MASCULINO</td>\n",
       "      <td>37</td>\n",
       "      <td>False</td>\n",
       "    </tr>\n",
       "    <tr>\n",
       "      <th>140</th>\n",
       "      <td>2016-0173</td>\n",
       "      <td>2016-12-26</td>\n",
       "      <td>CONDUCTOR</td>\n",
       "      <td>MOTO</td>\n",
       "      <td>MASCULINO</td>\n",
       "      <td>35</td>\n",
       "      <td>False</td>\n",
       "    </tr>\n",
       "    <tr>\n",
       "      <th>143</th>\n",
       "      <td>2016-0176</td>\n",
       "      <td>2016-12-28</td>\n",
       "      <td>CONDUCTOR</td>\n",
       "      <td>MOTO</td>\n",
       "      <td>MASCULINO</td>\n",
       "      <td>28</td>\n",
       "      <td>False</td>\n",
       "    </tr>\n",
       "    <tr>\n",
       "      <th>144</th>\n",
       "      <td>2016-0177</td>\n",
       "      <td>2016-12-29</td>\n",
       "      <td>PEATON</td>\n",
       "      <td>PEATON</td>\n",
       "      <td>FEMENINO</td>\n",
       "      <td>27</td>\n",
       "      <td>False</td>\n",
       "    </tr>\n",
       "    <tr>\n",
       "      <th>145</th>\n",
       "      <td>2016-0178</td>\n",
       "      <td>2016-12-30</td>\n",
       "      <td>PEATON</td>\n",
       "      <td>PEATON</td>\n",
       "      <td>FEMENINO</td>\n",
       "      <td>7</td>\n",
       "      <td>False</td>\n",
       "    </tr>\n",
       "    <tr>\n",
       "      <th>181</th>\n",
       "      <td>2017-0041</td>\n",
       "      <td>2017-04-03</td>\n",
       "      <td>CONDUCTOR</td>\n",
       "      <td>MOTO</td>\n",
       "      <td>MASCULINO</td>\n",
       "      <td>17</td>\n",
       "      <td>False</td>\n",
       "    </tr>\n",
       "    <tr>\n",
       "      <th>221</th>\n",
       "      <td>2017-0089</td>\n",
       "      <td>2017-07-13</td>\n",
       "      <td>SD</td>\n",
       "      <td>SD</td>\n",
       "      <td>MASCULINO</td>\n",
       "      <td>23</td>\n",
       "      <td>False</td>\n",
       "    </tr>\n",
       "    <tr>\n",
       "      <th>242</th>\n",
       "      <td>2017-0112</td>\n",
       "      <td>2017-09-10</td>\n",
       "      <td>PASAJERO_ACOMPAÑANTE</td>\n",
       "      <td>AUTO</td>\n",
       "      <td>MASCULINO</td>\n",
       "      <td>1</td>\n",
       "      <td>False</td>\n",
       "    </tr>\n",
       "    <tr>\n",
       "      <th>246</th>\n",
       "      <td>2017-0115</td>\n",
       "      <td>2017-09-19</td>\n",
       "      <td>CONDUCTOR</td>\n",
       "      <td>MOTO</td>\n",
       "      <td>MASCULINO</td>\n",
       "      <td>34</td>\n",
       "      <td>False</td>\n",
       "    </tr>\n",
       "    <tr>\n",
       "      <th>253</th>\n",
       "      <td>2017-0126</td>\n",
       "      <td>2017-10-14</td>\n",
       "      <td>PASAJERO_ACOMPAÑANTE</td>\n",
       "      <td>AUTO</td>\n",
       "      <td>MASCULINO</td>\n",
       "      <td>39</td>\n",
       "      <td>False</td>\n",
       "    </tr>\n",
       "    <tr>\n",
       "      <th>280</th>\n",
       "      <td>2017-0155</td>\n",
       "      <td>2017-12-12</td>\n",
       "      <td>SD</td>\n",
       "      <td>SD</td>\n",
       "      <td>MASCULINO</td>\n",
       "      <td>77</td>\n",
       "      <td>False</td>\n",
       "    </tr>\n",
       "  </tbody>\n",
       "</table>\n",
       "</div>"
      ],
      "text/plain": [
       "            id      fecha                   rol vehiculo_victima sexo_victima  \\\n",
       "3    2016-0004 2016-01-10             CONDUCTOR             MOTO    MASCULINO   \n",
       "16   2016-0022 2016-02-21  PASAJERO_ACOMPAÑANTE             MOTO    MASCULINO   \n",
       "19   2016-0027 2016-02-28  PASAJERO_ACOMPAÑANTE             AUTO    MASCULINO   \n",
       "22   2016-0031 2016-03-08             CONDUCTOR             MOTO    MASCULINO   \n",
       "46   2016-0064 2016-05-14                PEATON           PEATON    MASCULINO   \n",
       "48   2016-0067 2016-05-21  PASAJERO_ACOMPAÑANTE             MOTO     FEMENINO   \n",
       "49   2016-0068 2016-05-22             CONDUCTOR             MOTO    MASCULINO   \n",
       "51   2016-0073 2016-06-11             CONDUCTOR             MOTO    MASCULINO   \n",
       "52   2016-0074 2016-06-12             CONDUCTOR             AUTO    MASCULINO   \n",
       "56   2016-0078 2016-06-13             CONDUCTOR             MOTO    MASCULINO   \n",
       "57   2016-0079 2016-06-16             CONDUCTOR             AUTO     FEMENINO   \n",
       "58   2016-0080 2016-06-18             CONDUCTOR             AUTO    MASCULINO   \n",
       "59   2016-0081 2016-06-22             CONDUCTOR             MOTO    MASCULINO   \n",
       "74   2016-0098 2016-07-27             CONDUCTOR             MOTO     FEMENINO   \n",
       "75   2016-0099 2016-07-29             CONDUCTOR           CARGAS    MASCULINO   \n",
       "77   2016-0101 2016-08-07                    SD               SD    MASCULINO   \n",
       "78   2016-0102 2016-08-10             CONDUCTOR             MOTO    MASCULINO   \n",
       "81   2016-0106 2016-08-19                PEATON           PEATON    MASCULINO   \n",
       "82   2016-0107 2016-08-20             CONDUCTOR             MOTO    MASCULINO   \n",
       "84   2016-0110 2016-08-24                PEATON           PEATON    MASCULINO   \n",
       "87   2016-0113 2016-08-27                PEATON           PEATON     FEMENINO   \n",
       "91   2016-0117 2016-09-03             CONDUCTOR             AUTO    MASCULINO   \n",
       "95   2016-0123 2016-09-14             CONDUCTOR             MOTO     FEMENINO   \n",
       "96   2016-0124 2016-09-16                PEATON           PEATON    MASCULINO   \n",
       "97   2016-0125 2016-09-17             CONDUCTOR             MOTO    MASCULINO   \n",
       "98   2016-0126 2016-09-18             CONDUCTOR             AUTO    MASCULINO   \n",
       "99   2016-0126 2016-09-18  PASAJERO_ACOMPAÑANTE             AUTO    MASCULINO   \n",
       "100  2016-0127 2016-09-24                PEATON           PEATON    MASCULINO   \n",
       "103  2016-0131 2016-10-09                PEATON           PEATON    MASCULINO   \n",
       "109  2016-0137 2016-10-25             CONDUCTOR             MOTO    MASCULINO   \n",
       "110  2016-0138 2016-10-27              CICLISTA        BICICLETA     FEMENINO   \n",
       "111  2016-0139 2016-10-28  PASAJERO_ACOMPAÑANTE             MOTO     FEMENINO   \n",
       "112  2016-0140 2016-10-31  PASAJERO_ACOMPAÑANTE        PASAJEROS    MASCULINO   \n",
       "114  2016-0143 2016-11-06             CONDUCTOR             MOTO    MASCULINO   \n",
       "115  2016-0144 2016-11-07                PEATON           PEATON    MASCULINO   \n",
       "117  2016-0146 2016-11-09                PEATON           PEATON     FEMENINO   \n",
       "124  2016-0154 2016-11-26             CONDUCTOR             MOTO    MASCULINO   \n",
       "125  2016-0155 2016-11-26                PEATON           PEATON     FEMENINO   \n",
       "127  2016-0157 2016-12-03             CONDUCTOR             MOTO    MASCULINO   \n",
       "128  2016-0159 2016-12-04             CONDUCTOR             AUTO    MASCULINO   \n",
       "132  2016-0163 2016-12-10             CONDUCTOR             MOTO    MASCULINO   \n",
       "133  2016-0164 2016-12-11             CONDUCTOR             AUTO    MASCULINO   \n",
       "134  2016-0165 2016-12-12              CICLISTA        BICICLETA    MASCULINO   \n",
       "140  2016-0173 2016-12-26             CONDUCTOR             MOTO    MASCULINO   \n",
       "143  2016-0176 2016-12-28             CONDUCTOR             MOTO    MASCULINO   \n",
       "144  2016-0177 2016-12-29                PEATON           PEATON     FEMENINO   \n",
       "145  2016-0178 2016-12-30                PEATON           PEATON     FEMENINO   \n",
       "181  2017-0041 2017-04-03             CONDUCTOR             MOTO    MASCULINO   \n",
       "221  2017-0089 2017-07-13                    SD               SD    MASCULINO   \n",
       "242  2017-0112 2017-09-10  PASAJERO_ACOMPAÑANTE             AUTO    MASCULINO   \n",
       "246  2017-0115 2017-09-19             CONDUCTOR             MOTO    MASCULINO   \n",
       "253  2017-0126 2017-10-14  PASAJERO_ACOMPAÑANTE             AUTO    MASCULINO   \n",
       "280  2017-0155 2017-12-12                    SD               SD    MASCULINO   \n",
       "\n",
       "    edad_victima  fatal  \n",
       "3             18  False  \n",
       "16            41  False  \n",
       "19            34  False  \n",
       "22            21  False  \n",
       "46            20  False  \n",
       "48            30  False  \n",
       "49            58  False  \n",
       "51            23  False  \n",
       "52            60  False  \n",
       "56            30  False  \n",
       "57            51  False  \n",
       "58            60  False  \n",
       "59            40  False  \n",
       "74            43  False  \n",
       "75            45  False  \n",
       "77            67  False  \n",
       "78            29  False  \n",
       "81            38  False  \n",
       "82            21  False  \n",
       "84            57  False  \n",
       "87            60  False  \n",
       "91            43  False  \n",
       "95            58  False  \n",
       "96            67  False  \n",
       "97            30  False  \n",
       "98            37  False  \n",
       "99            60  False  \n",
       "100           50  False  \n",
       "103           35  False  \n",
       "109           30  False  \n",
       "110           33  False  \n",
       "111           35  False  \n",
       "112           20  False  \n",
       "114           35  False  \n",
       "115           83  False  \n",
       "117           29  False  \n",
       "124           38  False  \n",
       "125           29  False  \n",
       "127           23  False  \n",
       "128           23  False  \n",
       "132           23  False  \n",
       "133           29  False  \n",
       "134           37  False  \n",
       "140           35  False  \n",
       "143           28  False  \n",
       "144           27  False  \n",
       "145            7  False  \n",
       "181           17  False  \n",
       "221           23  False  \n",
       "242            1  False  \n",
       "246           34  False  \n",
       "253           39  False  \n",
       "280           77  False  "
      ]
     },
     "execution_count": 204,
     "metadata": {},
     "output_type": "execute_result"
    }
   ],
   "source": [
    "victimas.loc[victimas['fatal'] == False]\n"
   ]
  }
 ],
 "metadata": {
  "kernelspec": {
   "display_name": "Python 3",
   "language": "python",
   "name": "python3"
  },
  "language_info": {
   "codemirror_mode": {
    "name": "ipython",
    "version": 3
   },
   "file_extension": ".py",
   "mimetype": "text/x-python",
   "name": "python",
   "nbconvert_exporter": "python",
   "pygments_lexer": "ipython3",
   "version": "3.10.9"
  }
 },
 "nbformat": 4,
 "nbformat_minor": 2
}
